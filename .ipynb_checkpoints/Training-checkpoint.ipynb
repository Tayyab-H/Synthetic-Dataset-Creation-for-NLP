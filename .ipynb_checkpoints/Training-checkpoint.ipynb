{
 "cells": [
  {
   "cell_type": "code",
   "execution_count": 1,
   "id": "f113bb5f-23dc-40ce-adc4-f4b9f97bd72a",
   "metadata": {},
   "outputs": [],
   "source": [
    "import win32com.client\n",
    "import pyttsx3;\n",
    "import pandas as pd\n",
    "import numpy as np\n",
    "import tensorflow as tf\n",
    "from tensorflow import keras\n",
    "from keras.layers import Dense, Input"
   ]
  },
  {
   "cell_type": "code",
   "execution_count": null,
   "id": "3a7f8be2-db62-42d8-8ad0-aac6612edf99",
   "metadata": {},
   "outputs": [],
   "source": []
  },
  {
   "cell_type": "code",
   "execution_count": 2,
   "id": "a196ac4f-aafe-44f8-b083-ab70e3654b46",
   "metadata": {},
   "outputs": [],
   "source": [
    "class Command():\n",
    "    def __init__(self):\n",
    "        outlook = win32com.client.Dispatch('outlook.application')\n",
    "        self.mapi = outlook.GetNamespace(\"MAPI\")\n",
    "        \n",
    "    def readLastInboxMessage(self):\n",
    "        inbox = self.mapi.GetDefaultFolder(6)\n",
    "        messages = inbox.Items\n",
    "        message = messages.GetLast()\n",
    "        return message.Body\n",
    "    \n",
    "    def readLastInboxSubject(self):\n",
    "        inbox = self.mapi.GetDefaultFolder(6)\n",
    "        messages = inbox.Items\n",
    "        message = messages.GetLast()\n",
    "        return message.Subject\n",
    "\n",
    "    def getAttachmentofLastEmail(self):\n",
    "        inbox = self.mapi.GetDefaultFolder(6)\n",
    "        messages = inbox.Items\n",
    "        message = messages.GetLast()\n",
    "        return message.Attachments  \n",
    "    \n",
    "    def execute(self, commandType):\n",
    "        if commandType == 1:\n",
    "            return self.readLastInboxMessage()\n",
    "        elif commandType == 2:\n",
    "            return self.readLastInboxSubject()\n",
    "        else:\n",
    "            return None"
   ]
  },
  {
   "cell_type": "code",
   "execution_count": null,
   "id": "8c82ed54-a9ea-483c-958f-9167b5f2bcd9",
   "metadata": {
    "tags": []
   },
   "outputs": [],
   "source": []
  },
  {
   "cell_type": "code",
   "execution_count": 3,
   "id": "baabf17c-2679-4882-865f-75ed619ff180",
   "metadata": {
    "tags": []
   },
   "outputs": [],
   "source": [
    "from gensim.models import Word2Vec\n",
    "from gensim.models import KeyedVectors\n",
    "model = KeyedVectors.load_word2vec_format(\"GoogleNews-vectors-negative300.bin\", binary = True)"
   ]
  },
  {
   "cell_type": "code",
   "execution_count": 4,
   "id": "490cf292-4155-49a8-9ad3-f2c31ac121ab",
   "metadata": {},
   "outputs": [
    {
     "data": {
      "text/plain": [
       "[('attachments', 0.6731535196304321),\n",
       " ('Charge_Writ', 0.5680820941925049),\n",
       " ('attached', 0.5141735076904297),\n",
       " ('attach', 0.4919285774230957),\n",
       " ('attachement', 0.4828201234340668),\n",
       " ('base_weatherhead', 0.47360366582870483),\n",
       " ('postcard.exe', 0.4698409140110016),\n",
       " ('attaches', 0.45461004972457886),\n",
       " ('prosthetic_beak', 0.4472523629665375),\n",
       " ('Attachment', 0.44549378752708435)]"
      ]
     },
     "execution_count": 4,
     "metadata": {},
     "output_type": "execute_result"
    }
   ],
   "source": [
    "model.most_similar(\"attachment\")"
   ]
  },
  {
   "cell_type": "code",
   "execution_count": 5,
   "id": "784d1367-b848-43da-881a-770b8da3762b",
   "metadata": {},
   "outputs": [
    {
     "name": "stdout",
     "output_type": "stream",
     "text": [
      "(590, 20, 300)\n"
     ]
    }
   ],
   "source": [
    "colnames = [\"input\",\"label\"]\n",
    "ds = pd.read_csv('synthetic_training_data.csv', usecols = colnames)\n",
    "with open(\"stoplist.txt\", \"r\") as F:\n",
    "    stoplist = F.read()\n",
    "    clean = []\n",
    "for i in range(0, len(ds[\"input\"])):\n",
    "    clean.append([word for word in ds[\"input\"][i].split() if word not in stoplist])\n",
    "\n",
    "x_train = np.array([])\n",
    "zero = np.zeros(shape = (1,300))\n",
    "\n",
    "for i in range(0, len(ds[\"input\"])):\n",
    "    sentence = clean[i]\n",
    "    vec = np.array([])\n",
    "    for j in range(0,len(sentence)):\n",
    "        word = model[sentence[j]]\n",
    "        vec = np.append(vec, word)\n",
    "    vec = vec.reshape(j+1,300)\n",
    "    for k in range(j,19):\n",
    "        vec = np.append(vec, zero)\n",
    "    vec = np.array(vec)\n",
    "    vec = vec.reshape(20,300)\n",
    "    x_train = np.append(x_train, vec)\n",
    "x_train = x_train.reshape(len(ds[\"input\"]),20, 300)\n",
    "print(x_train.shape)"
   ]
  },
  {
   "cell_type": "code",
   "execution_count": 6,
   "id": "eebd5c21-f45f-4501-8623-696cbf12b72c",
   "metadata": {},
   "outputs": [],
   "source": [
    "num_classes = 3\n",
    "temp = ds[\"label\"]\n",
    "y_train = []\n",
    "for i in temp:\n",
    "    current = [0] * num_classes\n",
    "    current[i-1] = 1\n",
    "    y_train.append(current)\n",
    "\n",
    "y_train = np.array(y_train, dtype = int)\n",
    "#print(y_train)"
   ]
  },
  {
   "cell_type": "code",
   "execution_count": 7,
   "id": "74445643-0a79-4efd-9aae-d87860f9f7ef",
   "metadata": {},
   "outputs": [
    {
     "name": "stdout",
     "output_type": "stream",
     "text": [
      "Epoch 1/50\n",
      "107/107 [==============================] - 1s 9ms/step - loss: 1.0745 - accuracy: 0.6064 - val_loss: 1.1002 - val_accuracy: 0.0339\n",
      "Epoch 2/50\n",
      "107/107 [==============================] - 1s 7ms/step - loss: 1.0158 - accuracy: 0.8719 - val_loss: 1.0955 - val_accuracy: 0.0678\n",
      "Epoch 3/50\n",
      "107/107 [==============================] - 1s 8ms/step - loss: 0.9368 - accuracy: 0.8851 - val_loss: 1.0875 - val_accuracy: 0.0678\n",
      "Epoch 4/50\n",
      "107/107 [==============================] - 1s 8ms/step - loss: 0.8425 - accuracy: 0.9002 - val_loss: 1.0878 - val_accuracy: 0.0847\n",
      "Epoch 5/50\n",
      "107/107 [==============================] - 1s 8ms/step - loss: 0.7433 - accuracy: 0.9134 - val_loss: 1.0746 - val_accuracy: 0.1017\n",
      "Epoch 6/50\n",
      "107/107 [==============================] - 1s 7ms/step - loss: 0.6485 - accuracy: 0.9247 - val_loss: 1.0628 - val_accuracy: 0.1017\n",
      "Epoch 7/50\n",
      "107/107 [==============================] - 1s 7ms/step - loss: 0.5601 - accuracy: 0.9322 - val_loss: 1.0716 - val_accuracy: 0.1186\n",
      "Epoch 8/50\n",
      "107/107 [==============================] - 1s 8ms/step - loss: 0.4841 - accuracy: 0.9454 - val_loss: 1.0209 - val_accuracy: 0.4237\n",
      "Epoch 9/50\n",
      "107/107 [==============================] - 1s 7ms/step - loss: 0.4184 - accuracy: 0.9661 - val_loss: 0.9912 - val_accuracy: 0.4576\n",
      "Epoch 10/50\n",
      "107/107 [==============================] - 1s 7ms/step - loss: 0.3626 - accuracy: 0.9661 - val_loss: 0.9232 - val_accuracy: 0.4576\n",
      "Epoch 11/50\n",
      "107/107 [==============================] - 1s 8ms/step - loss: 0.3152 - accuracy: 0.9812 - val_loss: 0.9046 - val_accuracy: 0.4576\n",
      "Epoch 12/50\n",
      "107/107 [==============================] - 1s 8ms/step - loss: 0.2740 - accuracy: 0.9887 - val_loss: 0.8606 - val_accuracy: 0.5085\n",
      "Epoch 13/50\n",
      "107/107 [==============================] - 1s 8ms/step - loss: 0.2378 - accuracy: 0.9906 - val_loss: 0.7885 - val_accuracy: 0.5085\n",
      "Epoch 14/50\n",
      "107/107 [==============================] - 1s 7ms/step - loss: 0.2078 - accuracy: 0.9906 - val_loss: 0.7715 - val_accuracy: 0.5085\n",
      "Epoch 15/50\n",
      "107/107 [==============================] - 1s 8ms/step - loss: 0.1802 - accuracy: 0.9906 - val_loss: 0.7222 - val_accuracy: 0.5254\n",
      "Epoch 16/50\n",
      "107/107 [==============================] - 1s 8ms/step - loss: 0.1583 - accuracy: 0.9944 - val_loss: 0.7039 - val_accuracy: 0.5424\n",
      "Epoch 17/50\n",
      "107/107 [==============================] - 1s 8ms/step - loss: 0.1398 - accuracy: 0.9944 - val_loss: 0.6696 - val_accuracy: 0.5593\n",
      "Epoch 18/50\n",
      "107/107 [==============================] - 1s 8ms/step - loss: 0.1236 - accuracy: 1.0000 - val_loss: 0.6594 - val_accuracy: 0.6102\n",
      "Epoch 19/50\n",
      "107/107 [==============================] - 1s 7ms/step - loss: 0.1096 - accuracy: 1.0000 - val_loss: 0.6317 - val_accuracy: 0.6102\n",
      "Epoch 20/50\n",
      "107/107 [==============================] - 1s 8ms/step - loss: 0.0984 - accuracy: 1.0000 - val_loss: 0.6200 - val_accuracy: 0.6441\n",
      "Epoch 21/50\n",
      "107/107 [==============================] - 1s 7ms/step - loss: 0.0877 - accuracy: 1.0000 - val_loss: 0.5867 - val_accuracy: 0.6949\n",
      "Epoch 22/50\n",
      "107/107 [==============================] - 1s 7ms/step - loss: 0.0791 - accuracy: 1.0000 - val_loss: 0.5659 - val_accuracy: 0.7288\n",
      "Epoch 23/50\n",
      "107/107 [==============================] - 1s 7ms/step - loss: 0.0715 - accuracy: 1.0000 - val_loss: 0.5450 - val_accuracy: 0.7627\n",
      "Epoch 24/50\n",
      "107/107 [==============================] - 1s 8ms/step - loss: 0.0644 - accuracy: 1.0000 - val_loss: 0.5326 - val_accuracy: 0.7627\n",
      "Epoch 25/50\n",
      "107/107 [==============================] - 1s 8ms/step - loss: 0.0584 - accuracy: 1.0000 - val_loss: 0.5184 - val_accuracy: 0.7627\n",
      "Epoch 26/50\n",
      "107/107 [==============================] - 1s 8ms/step - loss: 0.0532 - accuracy: 1.0000 - val_loss: 0.5039 - val_accuracy: 0.7627\n",
      "Epoch 27/50\n",
      "107/107 [==============================] - 1s 8ms/step - loss: 0.0487 - accuracy: 1.0000 - val_loss: 0.4927 - val_accuracy: 0.7797\n",
      "Epoch 28/50\n",
      "107/107 [==============================] - 1s 7ms/step - loss: 0.0446 - accuracy: 1.0000 - val_loss: 0.4922 - val_accuracy: 0.7797\n",
      "Epoch 29/50\n",
      "107/107 [==============================] - 1s 8ms/step - loss: 0.0411 - accuracy: 1.0000 - val_loss: 0.4791 - val_accuracy: 0.7966\n",
      "Epoch 30/50\n",
      "107/107 [==============================] - 1s 8ms/step - loss: 0.0380 - accuracy: 1.0000 - val_loss: 0.4680 - val_accuracy: 0.7966\n",
      "Epoch 31/50\n",
      "107/107 [==============================] - 1s 7ms/step - loss: 0.0348 - accuracy: 1.0000 - val_loss: 0.4556 - val_accuracy: 0.7966\n",
      "Epoch 32/50\n",
      "107/107 [==============================] - 1s 8ms/step - loss: 0.0324 - accuracy: 1.0000 - val_loss: 0.4475 - val_accuracy: 0.7966\n",
      "Epoch 33/50\n",
      "107/107 [==============================] - 1s 7ms/step - loss: 0.0301 - accuracy: 1.0000 - val_loss: 0.4341 - val_accuracy: 0.8136\n",
      "Epoch 34/50\n",
      "107/107 [==============================] - 1s 7ms/step - loss: 0.0277 - accuracy: 1.0000 - val_loss: 0.4290 - val_accuracy: 0.8136\n",
      "Epoch 35/50\n",
      "107/107 [==============================] - 1s 7ms/step - loss: 0.0257 - accuracy: 1.0000 - val_loss: 0.4241 - val_accuracy: 0.8305\n",
      "Epoch 36/50\n",
      "107/107 [==============================] - 1s 7ms/step - loss: 0.0238 - accuracy: 1.0000 - val_loss: 0.4102 - val_accuracy: 0.8305\n",
      "Epoch 37/50\n",
      "107/107 [==============================] - 1s 8ms/step - loss: 0.0221 - accuracy: 1.0000 - val_loss: 0.4064 - val_accuracy: 0.8305\n",
      "Epoch 38/50\n",
      "107/107 [==============================] - 1s 7ms/step - loss: 0.0205 - accuracy: 1.0000 - val_loss: 0.3988 - val_accuracy: 0.8305\n",
      "Epoch 39/50\n",
      "107/107 [==============================] - 1s 8ms/step - loss: 0.0191 - accuracy: 1.0000 - val_loss: 0.3973 - val_accuracy: 0.8305\n",
      "Epoch 40/50\n",
      "107/107 [==============================] - 1s 8ms/step - loss: 0.0177 - accuracy: 1.0000 - val_loss: 0.3909 - val_accuracy: 0.8305\n",
      "Epoch 41/50\n",
      "107/107 [==============================] - 1s 7ms/step - loss: 0.0166 - accuracy: 1.0000 - val_loss: 0.3745 - val_accuracy: 0.8305\n",
      "Epoch 42/50\n",
      "107/107 [==============================] - 1s 8ms/step - loss: 0.0154 - accuracy: 1.0000 - val_loss: 0.3689 - val_accuracy: 0.8305\n",
      "Epoch 43/50\n",
      "107/107 [==============================] - 1s 7ms/step - loss: 0.0143 - accuracy: 1.0000 - val_loss: 0.3693 - val_accuracy: 0.8305\n",
      "Epoch 44/50\n",
      "107/107 [==============================] - 1s 7ms/step - loss: 0.0133 - accuracy: 1.0000 - val_loss: 0.3666 - val_accuracy: 0.8305\n",
      "Epoch 45/50\n",
      "107/107 [==============================] - 1s 7ms/step - loss: 0.0125 - accuracy: 1.0000 - val_loss: 0.3576 - val_accuracy: 0.8305\n",
      "Epoch 46/50\n",
      "107/107 [==============================] - 1s 7ms/step - loss: 0.0118 - accuracy: 1.0000 - val_loss: 0.3530 - val_accuracy: 0.8475\n",
      "Epoch 47/50\n",
      "107/107 [==============================] - 1s 8ms/step - loss: 0.0109 - accuracy: 1.0000 - val_loss: 0.3529 - val_accuracy: 0.8475\n",
      "Epoch 48/50\n",
      "107/107 [==============================] - 1s 8ms/step - loss: 0.0102 - accuracy: 1.0000 - val_loss: 0.3532 - val_accuracy: 0.8475\n",
      "Epoch 49/50\n",
      "107/107 [==============================] - 1s 7ms/step - loss: 0.0095 - accuracy: 1.0000 - val_loss: 0.3427 - val_accuracy: 0.8475\n",
      "Epoch 50/50\n",
      "107/107 [==============================] - 1s 7ms/step - loss: 0.0090 - accuracy: 1.0000 - val_loss: 0.3419 - val_accuracy: 0.8475\n",
      "Model: \"sequential\"\n",
      "_________________________________________________________________\n",
      "Layer (type)                 Output Shape              Param #   \n",
      "=================================================================\n",
      "flatten (Flatten)            (None, 6000)              0         \n",
      "_________________________________________________________________\n",
      "dense (Dense)                (None, 300)               1800300   \n",
      "_________________________________________________________________\n",
      "dense_1 (Dense)              (None, 250)               75250     \n",
      "_________________________________________________________________\n",
      "dense_2 (Dense)              (None, 100)               25100     \n",
      "_________________________________________________________________\n",
      "dense_3 (Dense)              (None, 20)                2020      \n",
      "_________________________________________________________________\n",
      "dense_4 (Dense)              (None, 3)                 63        \n",
      "=================================================================\n",
      "Total params: 1,902,733\n",
      "Trainable params: 1,902,733\n",
      "Non-trainable params: 0\n",
      "_________________________________________________________________\n"
     ]
    }
   ],
   "source": [
    "nnmodel = keras.Sequential()\n",
    "nnmodel.add(keras.layers.InputLayer(input_shape = (20, 300)))\n",
    "nnmodel.add(keras.layers.Flatten())\n",
    "nnmodel.add(keras.layers.Dense(units = 300, activation = \"relu\"))\n",
    "nnmodel.add(keras.layers.Dense(units = 250, activation = \"relu\"))\n",
    "nnmodel.add(keras.layers.Dense(units = 100, activation = \"relu\"))\n",
    "nnmodel.add(keras.layers.Dense(units = 20, activation = \"relu\"))\n",
    "nnmodel.add(keras.layers.Dense(units = num_classes, activation = \"softmax\"))\n",
    "\n",
    "optim = tf.keras.optimizers.Adam(learning_rate = 0.00001)\n",
    "\n",
    "nnmodel.compile(optim, \n",
    "              loss='categorical_crossentropy', \n",
    "              metrics=['accuracy'])\n",
    "nnmodel.fit(x_train, y_train, epochs=50, batch_size = 5, validation_split = 0.1)\n",
    "nnmodel.summary()"
   ]
  },
  {
   "cell_type": "code",
   "execution_count": 10,
   "id": "8f852543-5cd9-442e-9f1b-a658316dc7ca",
   "metadata": {},
   "outputs": [
    {
     "name": "stdout",
     "output_type": "stream",
     "text": [
      "['latest', 'body']\n",
      "[[0.5515888  0.01888747 0.42952377]]\n",
      "1\n",
      "Email Output: \n"
     ]
    },
    {
     "data": {
      "text/plain": [
       "'Revisit your favourite restaurants or try a dish from somewhere new. \\r\\n <https://s3.amazonaws.com/uber-static/emails/2016/10/halloweenrider/sp_12x12.png> \\t  \\t\\r\\n <http://email.uber.com/ss/c/lKT8ccCkHTtPXRlUdr2M3PTWD1XrrsuiXVNpxIMMrRkpnboC2Fsdovf95YuNHm-5/3ex/zqsIzTskQwmymCjAwTBFIQ/h0/3tnd03f3MCuY8OIAWwrTrLGhNl8f0rzG3Qh9a__Pv-c> \\t\\r\\n <http://email.uber.com/ss/c/lKT8ccCkHTtPXRlUdr2M3PTWD1XrrsuiXVNpxIMMrRkpnboC2Fsdovf95YuNHm-5/3ex/zqsIzTskQwmymCjAwTBFIQ/h1/HLCXXC0QDzfTHfPl3WVojyWLnarxi_NDHIfqIHaNUhA> \\t\\r\\n\\r\\nSatisfy your food cravings \\r\\n\\r\\nEnjoy more of the food you love, and so much more. \\r\\nOrder now  <https://ubereats.app.link/pdvNHMLAUab?%243p=a_custom_354088&~campaign=bloc_f367d4cd-9e80-4fbf-935e-049d0c51ffac&~channel=crm&~customer_keyword=2eecd197-6c4c-3b3c-8ed0-8963ad891d3e> \\r\\nGeneric \\r\\nRestaurants you rave about \\t\\r\\n<http://email.uber.com/ss/c/lKT8ccCkHTtPXRlUdr2M3PTWD1XrrsuiXVNpxIMMrRkhFvAa2luIR5gQLm3LiNeaivePrto-FJSnZpeguusI92v_V88nAMEhMqKR1ywWnp1eBnVxGFyG1Jc9Wjk_rG_QIHYCLBuTi0lv6pJ9dIx1sg/3ex/zqsIzTskQwmymCjAwTBFIQ/h2/T9GWXxNWNxycAzFsOMc23RDpSEuoZHR6dQVTLVjjOKU> <http://email.uber.com/ss/c/lKT8ccCkHTtPXRlUdr2M3PTWD1XrrsuiXVNpxIMMrRkhFvAa2luIR5gQLm3LiNeaivePrto-FJSnZpeguusI92v_V88nAMEhMqKR1ywWnp1eBnVxGFyG1Jc9Wjk_rG_QIHYCLBuTi0lv6pJ9dIx1sg/3ex/zqsIzTskQwmymCjAwTBFIQ/h3/EUP49tD9QbdR8KuGiU__5rMJnLFLTb7nWV3i-sMVpqQ> \\r\\n  \\t\\r\\nJAQKS Chicken + Chips <http://email.uber.com/ss/c/lKT8ccCkHTtPXRlUdr2M3PTWD1XrrsuiXVNpxIMMrRkhFvAa2luIR5gQLm3LiNeaivePrto-FJSnZpeguusI92v_V88nAMEhMqKR1ywWnp1eBnVxGFyG1Jc9Wjk_rG_QIHYCLBuTi0lv6pJ9dIx1sg/3ex/zqsIzTskQwmymCjAwTBFIQ/h4/VPjYCmWEWIGWyNM1CHjtk8dd1dgCvk1khgZIFEBWVgc>  \\t\\r\\n<http://email.uber.com/ss/c/lKT8ccCkHTtPXRlUdr2M3PTWD1XrrsuiXVNpxIMMrRkhFvAa2luIR5gQLm3LiNeaivePrto-FJSnZpeguusI92v_V88nAMEhMqKR1ywWnp1eBnVxGFyG1Jc9Wjk_rG_QIHYCLBuTi0lv6pJ9dIx1sg/3ex/zqsIzTskQwmymCjAwTBFIQ/h5/SBi9VX_-i9sNEqV5mR5rLhg9XgfvqfvZ1o_0AehmJHM> \\r\\nOrder now  <http://email.uber.com/ss/c/lKT8ccCkHTtPXRlUdr2M3PTWD1XrrsuiXVNpxIMMrRkhFvAa2luIR5gQLm3LiNeaivePrto-FJSnZpeguusI92v_V88nAMEhMqKR1ywWnp1eBnVxGFyG1Jc9Wjk_rG_QIHYCLBuTi0lv6pJ9dIx1sg/3ex/zqsIzTskQwmymCjAwTBFIQ/h6/RhvKuGAfWxukferafY6sjnuRsKDZba1MEWHhlYBzpG0> \\t\\r\\n \\t \\r\\n<http://email.uber.com/ss/c/lKT8ccCkHTtPXRlUdr2M3PTWD1XrrsuiXVNpxIMMrRmNX2bLk3D4mSZ7lRpdrC038DgfR6NMDYpnu_qSvVM-e4And3saZYs8t_eRAavu5TDUxN4J-7z0EDRraakEn8Pwe9RkMAcstNtiXdURfmRfng/3ex/zqsIzTskQwmymCjAwTBFIQ/h7/8NMWjSnFamrufJhlciujEOVmC_Zy1rziiaC9txpX6EI> <http://email.uber.com/ss/c/lKT8ccCkHTtPXRlUdr2M3PTWD1XrrsuiXVNpxIMMrRmNX2bLk3D4mSZ7lRpdrC038DgfR6NMDYpnu_qSvVM-e4And3saZYs8t_eRAavu5TDUxN4J-7z0EDRraakEn8Pwe9RkMAcstNtiXdURfmRfng/3ex/zqsIzTskQwmymCjAwTBFIQ/h8/uV2MrWeFgUFhsRRyXmVjgNdkc_6gsyANZUrCbAoZAlY> \\r\\n \\t \\r\\nKFC Shirley <http://email.uber.com/ss/c/lKT8ccCkHTtPXRlUdr2M3PTWD1XrrsuiXVNpxIMMrRmNX2bLk3D4mSZ7lRpdrC038DgfR6NMDYpnu_qSvVM-e4And3saZYs8t_eRAavu5TDUxN4J-7z0EDRraakEn8Pwe9RkMAcstNtiXdURfmRfng/3ex/zqsIzTskQwmymCjAwTBFIQ/h9/MMAVd-87m6v0sh_-25Y-XcSZ6ZCrJhhjKSbkqMuuAwk>  \\t\\r\\n<http://email.uber.com/ss/c/lKT8ccCkHTtPXRlUdr2M3PTWD1XrrsuiXVNpxIMMrRmNX2bLk3D4mSZ7lRpdrC038DgfR6NMDYpnu_qSvVM-e4And3saZYs8t_eRAavu5TDUxN4J-7z0EDRraakEn8Pwe9RkMAcstNtiXdURfmRfng/3ex/zqsIzTskQwmymCjAwTBFIQ/h10/rcfqWfOWPt57dblN-ycz_C94BgRVvN9ieL_XV2Mxi64> \\r\\nOrder now  <http://email.uber.com/ss/c/lKT8ccCkHTtPXRlUdr2M3PTWD1XrrsuiXVNpxIMMrRmNX2bLk3D4mSZ7lRpdrC038DgfR6NMDYpnu_qSvVM-e4And3saZYs8t_eRAavu5TDUxN4J-7z0EDRraakEn8Pwe9RkMAcstNtiXdURfmRfng/3ex/zqsIzTskQwmymCjAwTBFIQ/h11/jkMiBA63uB1imcwXKSLx2QUauNnXFBHZu9SPDIM_o38> \\t\\r\\n<http://email.uber.com/ss/c/lKT8ccCkHTtPXRlUdr2M3PTWD1XrrsuiXVNpxIMMrRkFcXzCiHi1Z8bBXtKx5P5JlpwaRXiUc0DrWWUX3FKMYtZmnD0dFqaoml6jhrsuPrNMz0IZYRIGHYRk8bFyLcP7/3ex/zqsIzTskQwmymCjAwTBFIQ/h12/K77PtlDBomtlOPc9K5XylDk9ZxV1F5hnoRBUHgOV5ic> <http://email.uber.com/ss/c/lKT8ccCkHTtPXRlUdr2M3PTWD1XrrsuiXVNpxIMMrRkFcXzCiHi1Z8bBXtKx5P5JlpwaRXiUc0DrWWUX3FKMYtZmnD0dFqaoml6jhrsuPrNMz0IZYRIGHYRk8bFyLcP7/3ex/zqsIzTskQwmymCjAwTBFIQ/h13/RiMXvlsr4kLkCr5hwt-idmBcuvpXvG2UWuUmJaIUhZI> \\r\\n  \\t\\r\\nSubway <http://email.uber.com/ss/c/lKT8ccCkHTtPXRlUdr2M3PTWD1XrrsuiXVNpxIMMrRkFcXzCiHi1Z8bBXtKx5P5JlpwaRXiUc0DrWWUX3FKMYtZmnD0dFqaoml6jhrsuPrNMz0IZYRIGHYRk8bFyLcP7/3ex/zqsIzTskQwmymCjAwTBFIQ/h14/4ynTmM1tbxI9pDLcIkJeGy3x0azYWAH6QeU4Ptha8I8>  \\t\\r\\n<http://email.uber.com/ss/c/lKT8ccCkHTtPXRlUdr2M3PTWD1XrrsuiXVNpxIMMrRkFcXzCiHi1Z8bBXtKx5P5JlpwaRXiUc0DrWWUX3FKMYtZmnD0dFqaoml6jhrsuPrNMz0IZYRIGHYRk8bFyLcP7/3ex/zqsIzTskQwmymCjAwTBFIQ/h15/Z6jHSopKOVidUwjj9arA8ayh9atSQmXpyAQTVO61P74> \\r\\nOrder now  <http://email.uber.com/ss/c/lKT8ccCkHTtPXRlUdr2M3PTWD1XrrsuiXVNpxIMMrRkFcXzCiHi1Z8bBXtKx5P5JlpwaRXiUc0DrWWUX3FKMYtZmnD0dFqaoml6jhrsuPrNMz0IZYRIGHYRk8bFyLcP7/3ex/zqsIzTskQwmymCjAwTBFIQ/h16/3Ew3UJWl4gQoSAfEYelF5SQnnPtT0k0QNjEaumC_L6M> \\t\\r\\n \\t \\r\\n<http://email.uber.com/ss/c/lKT8ccCkHTtPXRlUdr2M3PTWD1XrrsuiXVNpxIMMrRn3pLGTDCf1jWgJLIRsqWWkCHFDWPmnCQMtdGN-lr3p33_GEvPAIKbJgBN2J4BSr8dKy8rX-r__LDhB0B9lmJ2Y/3ex/zqsIzTskQwmymCjAwTBFIQ/h17/gWt8RlnvhHxyG4u8TVQ_-O9eEJMow2vS9b2HQPPyTCA> <http://email.uber.com/ss/c/lKT8ccCkHTtPXRlUdr2M3PTWD1XrrsuiXVNpxIMMrRn3pLGTDCf1jWgJLIRsqWWkCHFDWPmnCQMtdGN-lr3p33_GEvPAIKbJgBN2J4BSr8dKy8rX-r__LDhB0B9lmJ2Y/3ex/zqsIzTskQwmymCjAwTBFIQ/h18/8hAbBlv23h5fVgeGUTFIRYrkd0gY_s3j38ZE1dT1Ztw> \\r\\n  \\t\\r\\nShirley Kebab House <http://email.uber.com/ss/c/lKT8ccCkHTtPXRlUdr2M3PTWD1XrrsuiXVNpxIMMrRn3pLGTDCf1jWgJLIRsqWWkCHFDWPmnCQMtdGN-lr3p33_GEvPAIKbJgBN2J4BSr8dKy8rX-r__LDhB0B9lmJ2Y/3ex/zqsIzTskQwmymCjAwTBFIQ/h19/AX4-bwiiVTXumYRJYB9fyJJ6kIIPdAzzgQ7TRfkI1HI>  \\t\\r\\n<http://email.uber.com/ss/c/lKT8ccCkHTtPXRlUdr2M3PTWD1XrrsuiXVNpxIMMrRn3pLGTDCf1jWgJLIRsqWWkCHFDWPmnCQMtdGN-lr3p33_GEvPAIKbJgBN2J4BSr8dKy8rX-r__LDhB0B9lmJ2Y/3ex/zqsIzTskQwmymCjAwTBFIQ/h20/7FZo33EuI8d0rBUqvYnZUYqzcRkBiRabfUQYfIrFYq4> \\r\\nOrder now  <http://email.uber.com/ss/c/lKT8ccCkHTtPXRlUdr2M3PTWD1XrrsuiXVNpxIMMrRn3pLGTDCf1jWgJLIRsqWWkCHFDWPmnCQMtdGN-lr3p33_GEvPAIKbJgBN2J4BSr8dKy8rX-r__LDhB0B9lmJ2Y/3ex/zqsIzTskQwmymCjAwTBFIQ/h21/pcpY6oUqe5NkHAYy3C6-rT4nutsN8oxXTkM2JYDPO5s> \\t\\r\\n\\t\\r\\nHelp Centre <http://email.uber.com/ss/c/sucETp6dPi8qQ9tD78Dzi8uiN7eHjEwKCG1FmrlEVBWd-jZxgvPan3dEIJE2EBQ1/3ex/zqsIzTskQwmymCjAwTBFIQ/h22/_blAwBAS2meA0qx95tvhp_Mq8Oq3mF3KxFgkuDsf1oE>  \\t\\r\\nUnsubscribe <http://email.uber.com/ss/c/lKT8ccCkHTtPXRlUdr2M3E0oymevE-d6JU08iC1ny_13PBgvuU8lAW6SohDZm9H-qLBC42Rj1S8QD9iE8HVPMIkWaCGhEjQ-99PeIxhYkmTD5jQk5tUJm42kMR9cCMEBcfByKKclU5lJ6kLcrHV9R6NvD6z4k1wmw3X9jralXZ9zbeAaGyU1ZCGjVGn194KQgsCIYAhLq3g2PU5V5bBP7hlJzhpZ0uLvpfZn_wIjXmtnkzQyiEV2umq0UNgjUVH2-vkOi3QcNC3yeUNi-WPvDqcVkJfsB2RrrU4MJ66V0gEunmJ7nqnWldMPL0SvWEMYNHr9a3KC9pkGgsHTFd5Q56GKcE2ecP9w3LzTF-jFetILjn-AtfFV5SKbW5-wtLw0sEMyV48mjaXKlH7bI-JMuv8TjaUTjJcGdCsNyOip0Hxd3JGpLfMTVe1U0XK1a8E98dCADv-G3WmLSaBSJtUcyye7r-ANTO5IB_vEKBln-JkIPOGrdSW-hs-IxcUYz301Xoh7AbJVXVXu76HfpwyZ7BJkrSXQHkd14ZVsN0rNOowTghzlvEEO7wgmSAOjCQEbcZTAI0LD2nOw9lHJBdNy9mEjSh7kYRGM5mdu30fHpzeZQJucFMHYV_FLGbfIVQ_aeTmBehrje9LkIDkgX16-29u6ogIwGATETZSaCkTzMcmIIT0gcCaQgdCVMhqTdm0NVmMW0CNaak1i2ZSKfklwUnXzCRKujFn-TPF2MeaoQFNfNDw0Kcpv_c7i679dkn8AxJwWV-hA2PC_Xhd31_qQAjbwNtuYtIxpWhck_O0N1R7i0Hgtrr2GLqGPQ-8JH45PJmWsFEYJ4LLQx4uU9xEbU9mw8btHHJ0wPo4Kgu96RQ4poumBqlbGbGRK81Yx1dQ6BoyAZKzdpQRkUGknrEiVKGqHR7VphYSFQ8x1GDIdXFpvZ9n_TvNznIrPQhxpt8ua1wQMyZG30NE2UOb9XrY8iTKJJDaajo81-UHrHs4EGFohGiWL_ON6_3MCZ1xMpuriwMPxaQtrCsEAZZBF44w42W6n5lHNugL5_X8gapEvLj-zdawUK8osgSkfJvJqslJBEtgrNzPboXuN1fOBzelUPg/3ex/zqsIzTskQwmymCjAwTBFIQ/h23/YYDeOLnE-CqJudIkZDUtwIendiOc7ltjaFObvPgQMsQ>  \\t\\r\\nTerms <http://email.uber.com/ss/c/lKT8ccCkHTtPXRlUdr2M3NZSO_R7xQ_qQdUWaodCICLyoyrUaikfMh8St3tq-Zk2/3ex/zqsIzTskQwmymCjAwTBFIQ/h24/_e-qnxzfzMn_cKdCqCO0lwWTVkaLLUkK4xodJRbeZtg>  \\t\\r\\nPrivacy <http://email.uber.com/ss/c/NtS8hnLZtsEC-6Wun150xZlT51rk8lUEc5R5UIv5tgmIA2NiysiHgAxTpfawkyxm/3ex/zqsIzTskQwmymCjAwTBFIQ/h25/-vOo36ULlmxAGPLkv71aLDMO8ILAqQhGjBmVPTColtA>  \\t\\r\\nEmail Preferences <http://email.uber.com/ss/c/tJraAOLos0F6jr36KJg0DBny2x7ghDV78i_L0vstwfUSehGYiYdyg576x21xVxNx/3ex/zqsIzTskQwmymCjAwTBFIQ/h26/We9msijGPHOYNAwzI8k_eSna7guSa4z8raujd-SK-4c>  \\t\\r\\n <http://email.uber.com/ss/c/lKT8ccCkHTtPXRlUdr2M3HRFSTRAozALynJoj2hCBXy-A7AjPrAZy-BKqssmVw39/3ex/zqsIzTskQwmymCjAwTBFIQ/h27/P70JogOAtM-L6Tzc3hyyLg0USGB3CzIhrsrC-5xMmTI> \\t <http://email.uber.com/ss/c/LbqnkeGlYGM_2j-spoQ5q8jWfHMdofuc9WtgWFVNP_g/3ex/zqsIzTskQwmymCjAwTBFIQ/h28/7hgr6CCR3fXgHe2B4AV-F3H-8ALQTxW63HGrUKPwjZw> \\t <http://email.uber.com/ss/c/lKT8ccCkHTtPXRlUdr2M3J9tUWmut990WG8GGZmBFPsvp6GdO90yBl5qfYd5L0Ap/3ex/zqsIzTskQwmymCjAwTBFIQ/h29/Ys8sN2Y85fEqjdYJbAL6a38VqyuPo9p-omTwMgg0qPw> \\t\\r\\nUber B.V. \\r\\nMr. Treublaan 7\\r\\n1097 DP Amsterdam \\r\\nUber.com <http://email.uber.com/ss/c/wzdQCNDdlxxHNAIyua_dK1CVDlEfPJHPAJ1wpnyR5Aw/3ex/zqsIzTskQwmymCjAwTBFIQ/h30/DnuacLfhnkvc0sl1Q9dTebmw8H2ku7yOAPU1w4MR-CE>  \\t\\r\\n <https://www.movable-ink-344.com/p/up/a24fad390ff51b2ba52985fb044ac06f/o.gif?mi_u=ab85075370ed2394a288ee07cd741f9fda1f488ed99a02b3135f9343fbb3a33e&mi_ecmp=fp&v=1&cpgn=0&fpx=pxl_m>  <http://email.uber.com/ss/o/lXvE-d4mMfd45qLWELabOw/3ex/zqsIzTskQwmymCjAwTBFIQ/ho.gif> '"
      ]
     },
     "execution_count": 10,
     "metadata": {},
     "output_type": "execute_result"
    }
   ],
   "source": [
    "#sentence = input(\"Ask the AI to do somehting\")\n",
    "sentence = \"what was my latest body\"\n",
    "clean = []\n",
    "clean = [word for word in sentence.split() if word not in stoplist]\n",
    "print(clean)\n",
    "vec = np.array([])\n",
    "for j in range(0,len(clean)):\n",
    "    word = model[clean[j]]\n",
    "    vec = np.append(vec, word)\n",
    "vec = vec.reshape(j+1,300)\n",
    "for k in range(j,19):\n",
    "    vec = np.append(vec, zero)\n",
    "vec = np.array(vec)\n",
    "vec = vec.reshape(1, 20, 300)\n",
    "\n",
    "ar = np.array(nnmodel.predict(vec))\n",
    "print(ar)\n",
    "classnum =  np.argmax(ar) + 1\n",
    "print(classnum)\n",
    "\n",
    "emailController = Command()\n",
    "print(\"Email Output: \")\n",
    "emailController.execute(classnum)"
   ]
  },
  {
   "cell_type": "code",
   "execution_count": null,
   "id": "254e8cee-f90d-4521-acae-4ca94db22943",
   "metadata": {},
   "outputs": [],
   "source": []
  }
 ],
 "metadata": {
  "kernelspec": {
   "display_name": "Python 3 (ipykernel)",
   "language": "python",
   "name": "python3"
  },
  "language_info": {
   "codemirror_mode": {
    "name": "ipython",
    "version": 3
   },
   "file_extension": ".py",
   "mimetype": "text/x-python",
   "name": "python",
   "nbconvert_exporter": "python",
   "pygments_lexer": "ipython3",
   "version": "3.9.6"
  }
 },
 "nbformat": 4,
 "nbformat_minor": 5
}
