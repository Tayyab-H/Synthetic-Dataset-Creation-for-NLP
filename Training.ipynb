{
 "cells": [
  {
   "cell_type": "code",
   "execution_count": 1,
   "id": "f113bb5f-23dc-40ce-adc4-f4b9f97bd72a",
   "metadata": {},
   "outputs": [],
   "source": [
    "import win32com.client\n",
    "import pyttsx3;\n",
    "import pandas as pd\n",
    "import numpy as np\n",
    "import tensorflow as tf\n",
    "from tensorflow import keras\n",
    "from keras.layers import Dense, Input"
   ]
  },
  {
   "cell_type": "code",
   "execution_count": null,
   "id": "3a7f8be2-db62-42d8-8ad0-aac6612edf99",
   "metadata": {},
   "outputs": [],
   "source": []
  },
  {
   "cell_type": "code",
   "execution_count": 2,
   "id": "a196ac4f-aafe-44f8-b083-ab70e3654b46",
   "metadata": {},
   "outputs": [],
   "source": [
    "#Class that actually executes the commands to retrieve email information\n",
    "class Command():\n",
    "    def __init__(self):\n",
    "        outlook = win32com.client.Dispatch('outlook.application')\n",
    "        self.mapi = outlook.GetNamespace(\"MAPI\")\n",
    "        \n",
    "    def readLastInboxMessage(self):\n",
    "        inbox = self.mapi.GetDefaultFolder(6)\n",
    "        messages = inbox.Items\n",
    "        message = messages.GetLast()\n",
    "        return message.Body\n",
    "    \n",
    "    def readLastInboxSubject(self):\n",
    "        inbox = self.mapi.GetDefaultFolder(6)\n",
    "        messages = inbox.Items\n",
    "        message = messages.GetLast()\n",
    "        return message.Subject\n",
    "\n",
    "    def getAttachmentofLastEmail(self):\n",
    "        inbox = self.mapi.GetDefaultFolder(6)\n",
    "        messages = inbox.Items\n",
    "        message = messages.GetLast()\n",
    "        return message.Attachments  \n",
    "    \n",
    "    def execute(self, commandType):\n",
    "        if commandType == 1:\n",
    "            return self.readLastInboxMessage()\n",
    "        elif commandType == 2:\n",
    "            return self.readLastInboxSubject()\n",
    "        else:\n",
    "            return None"
   ]
  },
  {
   "cell_type": "code",
   "execution_count": null,
   "id": "8c82ed54-a9ea-483c-958f-9167b5f2bcd9",
   "metadata": {
    "tags": []
   },
   "outputs": [],
   "source": []
  },
  {
   "cell_type": "code",
   "execution_count": 3,
   "id": "baabf17c-2679-4882-865f-75ed619ff180",
   "metadata": {
    "tags": []
   },
   "outputs": [],
   "source": [
    "from gensim.models import Word2Vec\n",
    "from gensim.models import KeyedVectors\n",
    "model = KeyedVectors.load_word2vec_format(\"GoogleNews-vectors-negative300.bin\", binary = True) #Loads in pretrained word2vec model"
   ]
  },
  {
   "cell_type": "code",
   "execution_count": 5,
   "id": "490cf292-4155-49a8-9ad3-f2c31ac121ab",
   "metadata": {},
   "outputs": [
    {
     "data": {
      "text/plain": [
       "[('files', 0.7133816480636597),\n",
       " ('filing', 0.647048830986023),\n",
       " ('filed', 0.5737501382827759),\n",
       " ('refile', 0.5691325664520264),\n",
       " ('Rod_Aydelotte_photo', 0.5590430498123169),\n",
       " ('File', 0.5576274991035461),\n",
       " ('fi_le', 0.551184892654419),\n",
       " ('Image_###K_GIF', 0.5502156615257263),\n",
       " ('Filing', 0.5267105102539062),\n",
       " ('Image_##K_GIF', 0.5109704732894897)]"
      ]
     },
     "execution_count": 5,
     "metadata": {},
     "output_type": "execute_result"
    }
   ],
   "source": [
    "model.most_similar(\"file\")#Test to check what most similar words are"
   ]
  },
  {
   "cell_type": "code",
   "execution_count": 46,
   "id": "784d1367-b848-43da-881a-770b8da3762b",
   "metadata": {},
   "outputs": [
    {
     "name": "stdout",
     "output_type": "stream",
     "text": [
      "(1120, 20, 300)\n"
     ]
    }
   ],
   "source": [
    "#Gets and reshapes all the data from the dataset to be in the correct format for the NN\n",
    "colnames = [\"input\",\"label\"]\n",
    "ds = pd.read_csv('synthetic_training_data.csv', usecols = colnames)\n",
    "with open(\"stoplist.txt\", \"r\") as F:\n",
    "    stoplist = F.read()\n",
    "    clean = []\n",
    "for i in range(0, len(ds[\"input\"])):\n",
    "    clean.append([word for word in ds[\"input\"][i].split() if word not in stoplist])\n",
    "\n",
    "x_train = np.array([])\n",
    "zero = np.zeros(shape = (1,300))\n",
    "\n",
    "for i in range(0, len(ds[\"input\"])):\n",
    "    sentence = clean[i]\n",
    "    vec = np.array([])\n",
    "    for j in range(0,len(sentence)):\n",
    "        word = model[sentence[j]]\n",
    "        vec = np.append(vec, word)\n",
    "    vec = vec.reshape(j+1,300)\n",
    "    for k in range(j,19):\n",
    "        vec = np.append(vec, zero)\n",
    "    vec = np.array(vec)\n",
    "    vec = vec.reshape(20,300)\n",
    "    x_train = np.append(x_train, vec)\n",
    "x_train = x_train.reshape(len(ds[\"input\"]),20, 300)\n",
    "print(x_train.shape)"
   ]
  },
  {
   "cell_type": "code",
   "execution_count": 47,
   "id": "eebd5c21-f45f-4501-8623-696cbf12b72c",
   "metadata": {},
   "outputs": [
    {
     "name": "stdout",
     "output_type": "stream",
     "text": [
      "(1120, 3)\n"
     ]
    }
   ],
   "source": [
    "num_classes = 3\n",
    "temp = ds[\"label\"]\n",
    "y_train = []\n",
    "for i in temp:\n",
    "    current = [0] * num_classes\n",
    "    current[i-1] = 1\n",
    "    y_train.append(current)\n",
    "\n",
    "y_train = np.array(y_train, dtype = int)\n",
    "print(y_train.shape)"
   ]
  },
  {
   "cell_type": "code",
   "execution_count": 48,
   "id": "e5c06361-deb9-461f-a665-a5c6ce91e408",
   "metadata": {},
   "outputs": [
    {
     "name": "stdout",
     "output_type": "stream",
     "text": [
      "(784, 20, 300)\n"
     ]
    }
   ],
   "source": [
    "#This can be ignored - Was being used to test the validation set.\n",
    "from sklearn.model_selection import train_test_split\n",
    "import matplotlib.pyplot as plt\n",
    "x_training, x_valid, y_training, y_valid = train_test_split(x_train, y_train, test_size=0.30, shuffle= True)\n",
    "print(x_training.shape)"
   ]
  },
  {
   "cell_type": "code",
   "execution_count": 74,
   "id": "74445643-0a79-4efd-9aae-d87860f9f7ef",
   "metadata": {},
   "outputs": [
    {
     "name": "stdout",
     "output_type": "stream",
     "text": [
      "Epoch 1/100\n",
      "18/18 [==============================] - 1s 55ms/step - loss: 1.0842 - accuracy: 0.5455\n",
      "Epoch 2/100\n",
      "18/18 [==============================] - 1s 54ms/step - loss: 1.0426 - accuracy: 0.7812\n",
      "Epoch 3/100\n",
      "18/18 [==============================] - 1s 54ms/step - loss: 0.9861 - accuracy: 0.8536\n",
      "Epoch 4/100\n",
      "18/18 [==============================] - 1s 54ms/step - loss: 0.9150 - accuracy: 0.8759\n",
      "Epoch 5/100\n",
      "18/18 [==============================] - 1s 54ms/step - loss: 0.8323 - accuracy: 0.9107\n",
      "Epoch 6/100\n",
      "18/18 [==============================] - 1s 53ms/step - loss: 0.7390 - accuracy: 0.9357\n",
      "Epoch 7/100\n",
      "18/18 [==============================] - 1s 54ms/step - loss: 0.6421 - accuracy: 0.9571\n",
      "Epoch 8/100\n",
      "18/18 [==============================] - 1s 53ms/step - loss: 0.5457 - accuracy: 0.9688\n",
      "Epoch 9/100\n",
      "18/18 [==============================] - 1s 54ms/step - loss: 0.4569 - accuracy: 0.9804\n",
      "Epoch 10/100\n",
      "18/18 [==============================] - 1s 53ms/step - loss: 0.3798 - accuracy: 0.9812\n",
      "Epoch 11/100\n",
      "18/18 [==============================] - 1s 55ms/step - loss: 0.3137 - accuracy: 0.9857\n",
      "Epoch 12/100\n",
      "18/18 [==============================] - 1s 54ms/step - loss: 0.2552 - accuracy: 0.9893\n",
      "Epoch 13/100\n",
      "18/18 [==============================] - 1s 54ms/step - loss: 0.2099 - accuracy: 0.9893\n",
      "Epoch 14/100\n",
      "18/18 [==============================] - 1s 54ms/step - loss: 0.1740 - accuracy: 0.9911\n",
      "Epoch 15/100\n",
      "18/18 [==============================] - 1s 53ms/step - loss: 0.1447 - accuracy: 0.9946\n",
      "Epoch 16/100\n",
      "18/18 [==============================] - 1s 53ms/step - loss: 0.1214 - accuracy: 0.9946\n",
      "Epoch 17/100\n",
      "18/18 [==============================] - 1s 53ms/step - loss: 0.1028 - accuracy: 0.9973\n",
      "Epoch 18/100\n",
      "18/18 [==============================] - 1s 53ms/step - loss: 0.0889 - accuracy: 0.9964\n",
      "Epoch 19/100\n",
      "18/18 [==============================] - 1s 54ms/step - loss: 0.0776 - accuracy: 0.9973\n",
      "Epoch 20/100\n",
      "18/18 [==============================] - 1s 54ms/step - loss: 0.0690 - accuracy: 0.9991\n",
      "Epoch 21/100\n",
      "18/18 [==============================] - 1s 54ms/step - loss: 0.0606 - accuracy: 0.9982\n",
      "Epoch 22/100\n",
      "18/18 [==============================] - 1s 53ms/step - loss: 0.0540 - accuracy: 0.9982\n",
      "Epoch 23/100\n",
      "18/18 [==============================] - 1s 54ms/step - loss: 0.0498 - accuracy: 0.9991\n",
      "Epoch 24/100\n",
      "18/18 [==============================] - 1s 53ms/step - loss: 0.0443 - accuracy: 0.9991\n",
      "Epoch 25/100\n",
      "18/18 [==============================] - 1s 54ms/step - loss: 0.0407 - accuracy: 0.9991\n",
      "Epoch 26/100\n",
      "18/18 [==============================] - 1s 54ms/step - loss: 0.0372 - accuracy: 0.9991\n",
      "Epoch 27/100\n",
      "18/18 [==============================] - 1s 53ms/step - loss: 0.0337 - accuracy: 0.9991\n",
      "Epoch 28/100\n",
      "18/18 [==============================] - 1s 54ms/step - loss: 0.0310 - accuracy: 0.9991\n",
      "Epoch 29/100\n",
      "18/18 [==============================] - 1s 54ms/step - loss: 0.0277 - accuracy: 0.9991\n",
      "Epoch 30/100\n",
      "18/18 [==============================] - 1s 54ms/step - loss: 0.0274 - accuracy: 0.9991\n",
      "Epoch 31/100\n",
      "18/18 [==============================] - 1s 53ms/step - loss: 0.0248 - accuracy: 0.9991\n",
      "Epoch 32/100\n",
      "18/18 [==============================] - 1s 54ms/step - loss: 0.0235 - accuracy: 0.9991\n",
      "Epoch 33/100\n",
      "18/18 [==============================] - 1s 53ms/step - loss: 0.0211 - accuracy: 0.9991\n",
      "Epoch 34/100\n",
      "18/18 [==============================] - 1s 53ms/step - loss: 0.0206 - accuracy: 0.9991\n",
      "Epoch 35/100\n",
      "18/18 [==============================] - 1s 54ms/step - loss: 0.0201 - accuracy: 0.9991\n",
      "Epoch 36/100\n",
      "18/18 [==============================] - 1s 54ms/step - loss: 0.0188 - accuracy: 0.9991\n",
      "Epoch 37/100\n",
      "18/18 [==============================] - 1s 54ms/step - loss: 0.0171 - accuracy: 0.9991\n",
      "Epoch 38/100\n",
      "18/18 [==============================] - 1s 53ms/step - loss: 0.0168 - accuracy: 0.9991\n",
      "Epoch 39/100\n",
      "18/18 [==============================] - 1s 54ms/step - loss: 0.0160 - accuracy: 0.9991\n",
      "Epoch 40/100\n",
      "18/18 [==============================] - 1s 54ms/step - loss: 0.0153 - accuracy: 0.9991\n",
      "Epoch 41/100\n",
      "18/18 [==============================] - 1s 53ms/step - loss: 0.0142 - accuracy: 0.9991\n",
      "Epoch 42/100\n",
      "18/18 [==============================] - 1s 55ms/step - loss: 0.0140 - accuracy: 0.9991\n",
      "Epoch 43/100\n",
      "18/18 [==============================] - 1s 58ms/step - loss: 0.0131 - accuracy: 0.9991\n",
      "Epoch 44/100\n",
      "18/18 [==============================] - 1s 53ms/step - loss: 0.0122 - accuracy: 0.9991\n",
      "Epoch 45/100\n",
      "18/18 [==============================] - 1s 53ms/step - loss: 0.0130 - accuracy: 0.9991\n",
      "Epoch 46/100\n",
      "18/18 [==============================] - 1s 53ms/step - loss: 0.0122 - accuracy: 0.9991\n",
      "Epoch 47/100\n",
      "18/18 [==============================] - 1s 53ms/step - loss: 0.0117 - accuracy: 0.9991\n",
      "Epoch 48/100\n",
      "18/18 [==============================] - 1s 57ms/step - loss: 0.0114 - accuracy: 0.9991\n",
      "Epoch 49/100\n",
      "18/18 [==============================] - 1s 56ms/step - loss: 0.0107 - accuracy: 0.9991\n",
      "Epoch 50/100\n",
      "18/18 [==============================] - 1s 58ms/step - loss: 0.0111 - accuracy: 0.9991\n",
      "Epoch 51/100\n",
      "18/18 [==============================] - 1s 56ms/step - loss: 0.0111 - accuracy: 0.9991\n",
      "Epoch 52/100\n",
      "18/18 [==============================] - 1s 55ms/step - loss: 0.0101 - accuracy: 0.9991\n",
      "Epoch 53/100\n",
      "18/18 [==============================] - 1s 55ms/step - loss: 0.0089 - accuracy: 0.9991\n",
      "Epoch 54/100\n",
      "18/18 [==============================] - 1s 58ms/step - loss: 0.0095 - accuracy: 0.9991\n",
      "Epoch 55/100\n",
      "18/18 [==============================] - 1s 58ms/step - loss: 0.0094 - accuracy: 0.9991\n",
      "Epoch 56/100\n",
      "18/18 [==============================] - 1s 54ms/step - loss: 0.0088 - accuracy: 0.9991\n",
      "Epoch 57/100\n",
      "18/18 [==============================] - 1s 54ms/step - loss: 0.0088 - accuracy: 0.9991\n",
      "Epoch 58/100\n",
      "18/18 [==============================] - 1s 55ms/step - loss: 0.0087 - accuracy: 0.9991\n",
      "Epoch 59/100\n",
      "18/18 [==============================] - 1s 54ms/step - loss: 0.0084 - accuracy: 0.9991\n",
      "Epoch 60/100\n",
      "18/18 [==============================] - 1s 55ms/step - loss: 0.0080 - accuracy: 0.9991\n",
      "Epoch 61/100\n",
      "18/18 [==============================] - 1s 54ms/step - loss: 0.0082 - accuracy: 0.9991\n",
      "Epoch 62/100\n",
      "18/18 [==============================] - 1s 54ms/step - loss: 0.0080 - accuracy: 0.9991\n",
      "Epoch 63/100\n",
      "18/18 [==============================] - 1s 54ms/step - loss: 0.0077 - accuracy: 0.9991\n",
      "Epoch 64/100\n",
      "18/18 [==============================] - 1s 55ms/step - loss: 0.0073 - accuracy: 0.9991\n",
      "Epoch 65/100\n",
      "18/18 [==============================] - 1s 54ms/step - loss: 0.0067 - accuracy: 0.9991\n",
      "Epoch 66/100\n",
      "18/18 [==============================] - 1s 54ms/step - loss: 0.0067 - accuracy: 0.9991\n",
      "Epoch 67/100\n",
      "18/18 [==============================] - 1s 53ms/step - loss: 0.0064 - accuracy: 0.9991\n",
      "Epoch 68/100\n",
      "18/18 [==============================] - 1s 54ms/step - loss: 0.0071 - accuracy: 0.9991\n",
      "Epoch 69/100\n",
      "18/18 [==============================] - 1s 54ms/step - loss: 0.0069 - accuracy: 0.9991\n",
      "Epoch 70/100\n",
      "18/18 [==============================] - 1s 54ms/step - loss: 0.0060 - accuracy: 0.9991\n",
      "Epoch 71/100\n",
      "18/18 [==============================] - 1s 53ms/step - loss: 0.0065 - accuracy: 0.9991\n",
      "Epoch 72/100\n",
      "18/18 [==============================] - 1s 55ms/step - loss: 0.0064 - accuracy: 0.9991\n",
      "Epoch 73/100\n",
      "18/18 [==============================] - 1s 54ms/step - loss: 0.0064 - accuracy: 0.9991\n",
      "Epoch 74/100\n",
      "18/18 [==============================] - 1s 55ms/step - loss: 0.0056 - accuracy: 0.9991\n",
      "Epoch 75/100\n",
      "18/18 [==============================] - 1s 53ms/step - loss: 0.0054 - accuracy: 0.9991\n",
      "Epoch 76/100\n",
      "18/18 [==============================] - 1s 53ms/step - loss: 0.0062 - accuracy: 0.9991\n",
      "Epoch 77/100\n",
      "18/18 [==============================] - 1s 54ms/step - loss: 0.0054 - accuracy: 0.9991\n",
      "Epoch 78/100\n",
      "18/18 [==============================] - 1s 57ms/step - loss: 0.0054 - accuracy: 0.9991\n",
      "Epoch 79/100\n",
      "18/18 [==============================] - 1s 53ms/step - loss: 0.0052 - accuracy: 0.9991\n",
      "Epoch 80/100\n",
      "18/18 [==============================] - 1s 53ms/step - loss: 0.0052 - accuracy: 0.9991\n",
      "Epoch 81/100\n",
      "18/18 [==============================] - 1s 53ms/step - loss: 0.0054 - accuracy: 0.9991\n",
      "Epoch 82/100\n",
      "18/18 [==============================] - 1s 53ms/step - loss: 0.0050 - accuracy: 0.9991\n",
      "Epoch 83/100\n",
      "18/18 [==============================] - 1s 53ms/step - loss: 0.0054 - accuracy: 0.9991\n",
      "Epoch 84/100\n",
      "18/18 [==============================] - 1s 53ms/step - loss: 0.0044 - accuracy: 0.9991\n",
      "Epoch 85/100\n",
      "18/18 [==============================] - 1s 54ms/step - loss: 0.0049 - accuracy: 0.9991\n",
      "Epoch 86/100\n",
      "18/18 [==============================] - 1s 53ms/step - loss: 0.0054 - accuracy: 0.9991\n",
      "Epoch 87/100\n",
      "18/18 [==============================] - 1s 53ms/step - loss: 0.0050 - accuracy: 0.9991\n",
      "Epoch 88/100\n",
      "18/18 [==============================] - 1s 53ms/step - loss: 0.0042 - accuracy: 0.9991\n",
      "Epoch 89/100\n",
      "18/18 [==============================] - 1s 53ms/step - loss: 0.0042 - accuracy: 0.9991\n",
      "Epoch 90/100\n",
      "18/18 [==============================] - 1s 54ms/step - loss: 0.0047 - accuracy: 0.9991\n",
      "Epoch 91/100\n",
      "18/18 [==============================] - 1s 53ms/step - loss: 0.0043 - accuracy: 0.9991\n",
      "Epoch 92/100\n",
      "18/18 [==============================] - 1s 54ms/step - loss: 0.0035 - accuracy: 0.9991\n",
      "Epoch 93/100\n",
      "18/18 [==============================] - 1s 54ms/step - loss: 0.0039 - accuracy: 0.9991\n",
      "Epoch 94/100\n",
      "18/18 [==============================] - 1s 54ms/step - loss: 0.0036 - accuracy: 0.9991\n",
      "Epoch 95/100\n",
      "18/18 [==============================] - 1s 53ms/step - loss: 0.0037 - accuracy: 0.9991\n",
      "Epoch 96/100\n",
      "18/18 [==============================] - 1s 53ms/step - loss: 0.0034 - accuracy: 0.9991\n",
      "Epoch 97/100\n",
      "18/18 [==============================] - 1s 54ms/step - loss: 0.0037 - accuracy: 0.9991\n",
      "Epoch 98/100\n",
      "18/18 [==============================] - 1s 53ms/step - loss: 0.0031 - accuracy: 0.9991\n",
      "Epoch 99/100\n",
      "18/18 [==============================] - 1s 53ms/step - loss: 0.0042 - accuracy: 0.9991\n",
      "Epoch 100/100\n",
      "18/18 [==============================] - 1s 54ms/step - loss: 0.0039 - accuracy: 0.9991\n"
     ]
    }
   ],
   "source": [
    "#Creating the Neural NEtwork\n",
    "nnmodel = keras.Sequential()\n",
    "nnmodel.add(keras.layers.InputLayer(input_shape = (20, 300)))\n",
    "nnmodel.add(keras.layers.Flatten())\n",
    "nnmodel.add(keras.layers.Dropout(0.1))\n",
    "nnmodel.add(keras.layers.Dense(units = 2000, activation = \"relu\"))\n",
    "nnmodel.add(keras.layers.Dropout(0.1))\n",
    "nnmodel.add(keras.layers.Dense(units = 1600, activation = \"relu\"))\n",
    "nnmodel.add(keras.layers.Dense(units = 100, activation = \"relu\"))\n",
    "nnmodel.add(keras.layers.Dense(units = 100, activation = \"relu\"))\n",
    "nnmodel.add(keras.layers.Dense(units = 20, activation = \"relu\"))\n",
    "nnmodel.add(keras.layers.Dense(units = num_classes, activation = \"softmax\"))\n",
    "\n",
    "optim = tf.keras.optimizers.Adam(learning_rate = 0.00001)\n",
    "\n",
    "nnmodel.compile(optim, \n",
    "              loss='categorical_crossentropy', \n",
    "              metrics=['accuracy'])\n",
    "nnmodel.save_weights('model.h5')\n",
    "history = nnmodel.fit(x_train, y_train, epochs=100, batch_size = 64)"
   ]
  },
  {
   "cell_type": "code",
   "execution_count": 50,
   "id": "e05b973c-de3c-4dd0-b10b-3985f64b7aa4",
   "metadata": {},
   "outputs": [
    {
     "data": {
      "image/png": "[encoded data removed]",
      "text/plain": [
       "<Figure size 432x288 with 1 Axes>"
      ]
     },
     "metadata": {
      "needs_background": "light"
     },
     "output_type": "display_data"
    }
   ],
   "source": [
    "#All Loss-Accuracy Graphs\n",
    "plt.plot(history.history['accuracy'], color = 'b')\n",
    "plt.plot(history.history['loss'], color = 'r')\n",
    "plt.xlabel('epoch')\n",
    "plt.legend(['accuracy','loss'])\n",
    "plt.show()"
   ]
  },
  {
   "cell_type": "code",
   "execution_count": 51,
   "id": "e24a6f89-0787-4597-b3ec-612d553ad08d",
   "metadata": {},
   "outputs": [
    {
     "name": "stdout",
     "output_type": "stream",
     "text": [
      "11/11 [==============================] - 0s 8ms/step - loss: 0.0044 - accuracy: 1.0000\n"
     ]
    },
    {
     "data": {
      "text/plain": [
       "[0.0044215028174221516, 1.0]"
      ]
     },
     "execution_count": 51,
     "metadata": {},
     "output_type": "execute_result"
    }
   ],
   "source": [
    "#nnmodel.evaluate(x=x_valid, y=y_valid) "
   ]
  },
  {
   "cell_type": "code",
   "execution_count": 59,
   "id": "c545b523-a950-4a05-98e7-8754d3c18a4b",
   "metadata": {},
   "outputs": [
    {
     "name": "stdout",
     "output_type": "stream",
     "text": [
      "(1600, 20, 300)\n"
     ]
    }
   ],
   "source": [
    "#Gets the test set into the correct format\n",
    "colnames = [\"input\",\"label\"]\n",
    "ds = pd.read_csv('synthetic_testing_data.csv', usecols = colnames)\n",
    "#ds = pd.read_csv('synthetic_testing_data.csv', usecols = colnames)\n",
    "with open(\"stoplist.txt\", \"r\") as F:\n",
    "    stoplist = F.read()\n",
    "    clean = []\n",
    "for i in range(0, len(ds[\"input\"])):\n",
    "    clean.append([word for word in ds[\"input\"][i].split() if word not in stoplist])\n",
    "\n",
    "x_test = np.array([])\n",
    "zero = np.zeros(shape = (1,300))\n",
    "\n",
    "for i in range(0, len(ds[\"input\"])):\n",
    "    sentence = clean[i]\n",
    "    vec = np.array([])\n",
    "    for j in range(0,len(sentence)):\n",
    "        word = model[sentence[j]]\n",
    "        vec = np.append(vec, word)\n",
    "    vec = vec.reshape(j+1,300)\n",
    "    for k in range(j,19):\n",
    "        vec = np.append(vec, zero)\n",
    "    vec = np.array(vec)\n",
    "    vec = vec.reshape(20,300)\n",
    "    x_test = np.append(x_test, vec)\n",
    "x_test = x_test.reshape(len(ds[\"input\"]),20, 300)\n",
    "print(x_test.shape)"
   ]
  },
  {
   "cell_type": "code",
   "execution_count": 60,
   "id": "9d064a3b-722f-4793-8e5b-bfa9f76c5eeb",
   "metadata": {},
   "outputs": [
    {
     "name": "stdout",
     "output_type": "stream",
     "text": [
      "(1600, 3)\n"
     ]
    }
   ],
   "source": [
    "num_classes = 3\n",
    "temp = ds[\"label\"]\n",
    "y_test = []\n",
    "for i in temp:\n",
    "    current = [0] * num_classes\n",
    "    current[i-1] = 1\n",
    "    y_test.append(current)\n",
    "\n",
    "y_test = np.array(y_test, dtype = int)\n",
    "print(y_test.shape)"
   ]
  },
  {
   "cell_type": "code",
   "execution_count": 61,
   "id": "8bef18af-2f68-4a99-825e-07114313bc45",
   "metadata": {},
   "outputs": [
    {
     "name": "stdout",
     "output_type": "stream",
     "text": [
      "50/50 [==============================] - 0s 10ms/step - loss: 0.9258 - accuracy: 0.7206\n"
     ]
    },
    {
     "data": {
      "text/plain": [
       "[0.9257575273513794, 0.7206249833106995]"
      ]
     },
     "execution_count": 61,
     "metadata": {},
     "output_type": "execute_result"
    }
   ],
   "source": [
    "#Evaluates the model against the test set \n",
    "nnmodel.evaluate(x=x_test, y=y_test)"
   ]
  },
  {
   "cell_type": "code",
   "execution_count": null,
   "id": "833eba41-99c2-4ddf-ae9a-a2cdd88b0e42",
   "metadata": {},
   "outputs": [],
   "source": [
    "#ignore this - used for generated results and graphs\n",
    "for i in range(3,10):\n",
    "    nnmodel.load_weights('model.h5')\n",
    "    lr = 1 * pow(10,-i)\n",
    "    optim = tf.keras.optimizers.Adam(learning_rate = lr)\n",
    "    nnmodel.compile(optim, loss='categorical_crossentropy', metrics=['accuracy'])\n",
    "    history = nnmodel.fit(x_train, y_train, epochs=250, batch_size = 128)\n",
    "    plt.plot(lr, float(nnmodel.evaluate(x=x_test, y=y_test)[1]), 'bo')\n",
    "plt.xlabel('Learning Rate')\n",
    "plt.xscale(\"log\")\n",
    "plt.ylabel('accuracy')\n",
    "plt.plot()\n",
    "plt.show()"
   ]
  },
  {
   "cell_type": "code",
   "execution_count": null,
   "id": "96f05139-d928-4f51-8124-2de36f0e20f2",
   "metadata": {},
   "outputs": [],
   "source": []
  },
  {
   "cell_type": "code",
   "execution_count": 53,
   "id": "c14cf0dc-27ba-4462-9099-b939b8df3443",
   "metadata": {},
   "outputs": [
    {
     "name": "stdout",
     "output_type": "stream",
     "text": [
      "2 :  1\n",
      "3 :  1\n",
      "4 :  1\n",
      "5 :  1\n",
      "6 :  1\n",
      "7 :  1\n",
      "8 :  1\n",
      "9 :  1\n",
      "10 :  1\n",
      "11 :  1\n",
      "12 :  1\n",
      "13 :  1\n",
      "14 :  1\n",
      "15 :  1\n",
      "16 :  1\n",
      "17 :  1\n",
      "18 :  2\n",
      "19 :  2\n",
      "20 :  1\n",
      "21 :  1\n",
      "22 :  2\n",
      "23 :  3\n",
      "24 :  3\n",
      "25 :  2\n",
      "26 :  3\n",
      "27 :  2\n",
      "28 :  2\n",
      "29 :  2\n",
      "30 :  2\n",
      "31 :  2\n",
      "32 :  3\n",
      "33 :  3\n",
      "34 :  2\n",
      "35 :  1\n",
      "36 :  1\n",
      "37 :  3\n",
      "38 :  3\n",
      "39 :  3\n",
      "40 :  2\n",
      "41 :  2\n",
      "42 :  3\n",
      "43 :  3\n",
      "44 :  1\n",
      "45 :  3\n",
      "46 :  1\n"
     ]
    }
   ],
   "source": [
    "#an in depth look at the model's class predictions in the testing set\n",
    "ar = nnmodel.predict(x=x_test)\n",
    "excelnumber = 2\n",
    "for i in ar:\n",
    "    print(excelnumber, \": \",i.tolist().index(max(i)) + 1)\n",
    "    excelnumber +=1\n",
    "    "
   ]
  },
  {
   "cell_type": "code",
   "execution_count": 97,
   "id": "8f852543-5cd9-442e-9f1b-a658316dc7ca",
   "metadata": {},
   "outputs": [
    {
     "name": "stdout",
     "output_type": "stream",
     "text": [
      "['return', 'topic']\n",
      "[[0.9146363  0.08253296 0.00283068]]\n",
      "Class Number:  1\n",
      "Email Output: \n"
     ]
    },
    {
     "data": {
      "text/plain": [
       "' <https://www.amazon.co.uk/gp/r.html?C=2X8R0PK3LTH9J&K=2VP7D0BP8A0BL&M=urn:rtn:msg:202109121417186c0d06d28b354a68ad32e78e0050p0eu&R=340RO1NFOP1LW&T=O&U=https%3A%2F%2Fimages-eu.ssl-images-amazon.com%2Fimages%2FG%2F01%2Fnav%2Ftransp.gif&H=U4QVULOGULK3AB5YEICIRZGOQGEA&ref_=pe_27063361_487055811_opens> \\r\\n <https://www.amazon.co.uk/gp/r.html?C=2X8R0PK3LTH9J&K=2VP7D0BP8A0BL&M=urn:rtn:msg:202109121417186c0d06d28b354a68ad32e78e0050p0eu&R=2EZIWFJLF2IF4&T=C&U=https%3A%2F%2Fwww.amazon.co.uk%2Fref%3Dpe_27063361_487055811_TE_g_i&H=DZDLP9956CATGLSA9VJP6YAAFDKA&ref_=pe_27063361_487055811_TE_g_i> \\t Your Orders <https://www.amazon.co.uk/gp/r.html?C=2X8R0PK3LTH9J&K=2VP7D0BP8A0BL&M=urn:rtn:msg:202109121417186c0d06d28b354a68ad32e78e0050p0eu&R=1KMD1S1SLE9AY&T=C&U=https%3A%2F%2Fwww.amazon.co.uk%2Fgp%2Fcss%2Fyour-orders-access%2Fref%3Dpe_27063361_487055811_TE_oh_tn&H=2G4AUARB2VHP4ZHPTCA67MT76FMA&ref_=pe_27063361_487055811_TE_oh_tn>  \\t  |   \\tYour Account <https://www.amazon.co.uk/gp/f.html?C=2X8R0PK3LTH9J&K=2VP7D0BP8A0BL&M=urn:rtn:msg:202109121417186c0d06d28b354a68ad32e78e0050p0eu&R=3R502S5ARJPJ4&T=C&U=https%3A%2F%2Fwww.amazon.co.uk%2Fgp%2Fcss%2Fyour-account-access%2Fref%3Dpe_27063361_487055811_TE_ya_tn&H=IOJHPFFASSCOYCOBSDHQANOPB1OA&ref_=pe_27063361_487055811_TE_ya_tn>  \\t  |   \\tAmazon.co.uk <https://www.amazon.co.uk/gp/r.html?C=2X8R0PK3LTH9J&K=2VP7D0BP8A0BL&M=urn:rtn:msg:202109121417186c0d06d28b354a68ad32e78e0050p0eu&R=17YA9FGHHZNED&T=C&U=https%3A%2F%2Fwww.amazon.co.uk%2Fref%3Dpe_27063361_487055811_TE_g_tn&H=CL6N0AJDMDM8EF8YQZFE2IHD0OOA&ref_=pe_27063361_487055811_TE_g_tn>  \\t\\r\\n\\r\\nDispatch Confirmation\\r\\n\\r\\nOrder: #203-5325341-1706714 <https://www.amazon.co.uk/gp/r.html?C=2X8R0PK3LTH9J&K=2VP7D0BP8A0BL&M=urn:rtn:msg:202109121417186c0d06d28b354a68ad32e78e0050p0eu&R=1DNNJSM47WHWA&T=C&U=https%3A%2F%2Fwww.amazon.co.uk%2Fgp%2Fcss%2Fsummary%2Fedit.html%2Fref%3Dpe_27063361_487055811_TE_od_tn%3Fie%3DUTF8%26orderID%3D203-5325341-1706714&H=ZUAUAXQV9NSBFXJKVGVWO81SIZGA&ref_=pe_27063361_487055811_TE_od_tn>  \\r\\nHello, \\r\\n\\r\\nWe thought you\\'d like to know that we\\'ve dispatched your item(s). Your order is on the way, and can no longer be changed. If you need to return an item or manage other orders, please visit Your Orders <https://www.amazon.co.uk/gp/r.html?C=2X8R0PK3LTH9J&K=2VP7D0BP8A0BL&M=urn:rtn:msg:202109121417186c0d06d28b354a68ad32e78e0050p0eu&R=3PVTFJ2TOWEWB&T=C&U=https%3A%2F%2Fwww.amazon.co.uk%2Fgp%2Fcss%2Fyour-orders-access%2Fref%3Dpe_27063361_487055811_TE_oh_bd&H=KTHYOU43CJ0H6FM8EIUTTYCAZDWA&ref_=pe_27063361_487055811_TE_oh_bd>  on Amazon.co.uk \\r\\n\\r\\nArriving:\\r\\nTuesday, September 14 \\r\\n\\r\\nTrack your package <https://www.amazon.co.uk/gp/r.html?C=2X8R0PK3LTH9J&K=2VP7D0BP8A0BL&M=urn:rtn:msg:202109121417186c0d06d28b354a68ad32e78e0050p0eu&R=QSUJCZGFHPLZ&T=C&U=https%3A%2F%2Fwww.amazon.co.uk%2Fgp%2Fcss%2Fshiptrack%2Fview.html%2Fref%3Dpe_27063361_487055811_TE_typ%3Fie%3DUTF8%26addressID%3Dnmjjrvmummkq%26latestArrivalDate%3D1631646000%26orderID%3D203-5325341-1706714%26shipmentDate%3D1631455909%26orderingShipmentId%3D33099201466302%26packageId%3D1&H=AASLO78FSXBUQIUOD7JMUC5ZW9AA&ref_=pe_27063361_487055811_TE_typ>  \\t\\r\\nYour order was sent to:\\r\\n\\r\\n\\r\\nTayyab\\r\\nSolihull \\r\\n\\r\\nOrder Total: \\t£6.53 \\t\\r\\nPaid by Visa: \\t£6.53 \\t\\r\\n<https://www.amazon.co.uk/gp/r.html?C=2X8R0PK3LTH9J&K=2VP7D0BP8A0BL&M=urn:rtn:msg:202109121417186c0d06d28b354a68ad32e78e0050p0eu&R=2OALNDGU79RDC&T=C&U=https%3A%2F%2Fwww.amazon.co.uk%2F%3Fref%3Dsce_wms%26ref_%3Dpe_27063361_487055811&H=6KSYSVOOUTL9QC7KBYNNMREHOGMA&ref_=pe_27063361_487055811> \\r\\n <https://www.amazon.co.uk/gp/r.html?C=2X8R0PK3LTH9J&K=2VP7D0BP8A0BL&M=urn:rtn:msg:202109121417186c0d06d28b354a68ad32e78e0050p0eu&R=276YCFFF9BEHT&T=C&U=https%3A%2F%2Fwww.amazon.co.uk%2F%3Fref%3Dsce_wms%26ref_%3Dpe_27063361_487055811&H=UTGCYUQBRTLBOZUOAQAAGHBB7MKA&ref_=pe_27063361_487055811> \\tJust ask: \"Alexa, where\\'s my stuff?\" <https://www.amazon.co.uk/gp/r.html?C=2X8R0PK3LTH9J&K=2VP7D0BP8A0BL&M=urn:rtn:msg:202109121417186c0d06d28b354a68ad32e78e0050p0eu&R=2HWXJ82IUWZ0O&T=C&U=https%3A%2F%2Fwww.amazon.co.uk%2F%3Fref%3Dsce_wms%26ref_%3Dpe_27063361_487055811&H=3SWXNLDRQYW355KQLRDXICDIR4KA&ref_=pe_27063361_487055811> \\t\\r\\nYour item(s) is (are) being sent by Amazon Logistics. Your tracking number is QB0145838179. Depending on the delivery method you chose, it\\'s possible that the tracking information might not be visible immediately. Learn more about Tracking <https://www.amazon.co.uk/gp/f.html?C=2X8R0PK3LTH9J&K=2VP7D0BP8A0BL&M=urn:rtn:msg:202109121417186c0d06d28b354a68ad32e78e0050p0eu&R=3T8EF1ALZZA9&T=C&U=https%3A%2F%2Fwww.amazon.co.uk%2Ftracking%3Fref%3DTE_tra%26ref_%3Dpe_27063361_487055811&H=6BL6BHEQNA6LP1MPDNE0DIJOXOKA&ref_=pe_27063361_487055811> . \\r\\n\\r\\nIf you have a mobile device, you can use the free Amazon Mobile App <https://www.amazon.co.uk/gp/r.html?C=2X8R0PK3LTH9J&K=2VP7D0BP8A0BL&M=urn:rtn:msg:202109121417186c0d06d28b354a68ad32e78e0050p0eu&R=3PAJ6ODR3BF0O&T=C&U=https%3A%2F%2Fwww.amazon.co.uk%2Fb%2Fref%3Dpe_27063361_487055811_help_dt_moboapp%3Fnode%3D4816518031&H=ESYNLDGU0A8NUIFL8WKGINXBDKWA&ref_=pe_27063361_487055811_help_dt_moboapp>  to receive delivery notifications and track your parcel on the go. \\r\\n\\r\\nOrder summary \\r\\n\\t\\r\\n\\t\\r\\n<https://www.amazon.co.uk/gp/r.html?C=2X8R0PK3LTH9J&K=2VP7D0BP8A0BL&M=urn:rtn:msg:202109121417186c0d06d28b354a68ad32e78e0050p0eu&R=20K4LGPS22JA&T=C&U=https%3A%2F%2Fwww.amazon.co.uk%2Fdp%2FB08VJ1J5DS%2Fref%3Dpe_27063361_487055811_TE_dp_i1&H=NYKZQPTOZ6YFZRO0GNN6EYED9I4A&ref_=pe_27063361_487055811_TE_dp_i1>  <https://m.media-amazon.com/images/I/51afF5e1cmS._SY115_SX115_.jpg> \\t\\r\\n*\\tIndeme A5 Notebook/Notepad - Lined A5 Notebook Journal with Premium Paper, 5.8\" X 8.4\", Hardcover, 144 Pages, Back Pocket, Bookmark, College Ruled Jou <https://www.amazon.co.uk/gp/r.html?C=2X8R0PK3LTH9J&K=2VP7D0BP8A0BL&M=urn:rtn:msg:202109121417186c0d06d28b354a68ad32e78e0050p0eu&R=OHTQ6OCRN7J5&T=C&U=https%3A%2F%2Fwww.amazon.co.uk%2Fdp%2FB08VJ1J5DS%2Fref%3Dpe_27063361_487055811_TE_dp_1&H=QHPJJAMK97KPXZSA3RGGLRKJY4OA&ref_=pe_27063361_487055811_TE_dp_1> \\r\\n\\tSold by indeme \\r\\n\\r\\n£6.53 \\t\\r\\n\\t\\r\\n\\t\\r\\nIt\\'s easy to return an item. Visit our Online Returns Centre <https://www.amazon.co.uk/gp/f.html?C=2X8R0PK3LTH9J&K=2VP7D0BP8A0BL&M=urn:rtn:msg:202109121417186c0d06d28b354a68ad32e78e0050p0eu&R=T91ELZW7QM4L&T=C&U=https%3A%2F%2Fwww.amazon.co.uk%2Freturns-support%3Fref%3DTE_r%26ref_%3Dpe_27063361_487055811&H=ZB5RPWAZOIWREBEZXKNL5TXOWDOA&ref_=pe_27063361_487055811> . \\r\\nLearn how to recycle your packaging at Amazon Second Chance <https://www.amazon.co.uk/gp/r.html?C=2X8R0PK3LTH9J&K=2VP7D0BP8A0BL&M=urn:rtn:msg:202109121417186c0d06d28b354a68ad32e78e0050p0eu&R=2BVJQTIC1YXB0&T=C&U=https%3A%2F%2Fwww.amazon.co.uk%2Famsc%3Fref_%3Dpe_27063361_487055811_ascyorn&H=LUU8R6HJMCAMWAKQWZCSCVEV8OGA&ref_=pe_27063361_487055811_ascyorn> . \\r\\nIf you need further assistance with your order, please visit Customer Service <https://www.amazon.co.uk/gp/f.html?C=2X8R0PK3LTH9J&K=2VP7D0BP8A0BL&M=urn:rtn:msg:202109121417186c0d06d28b354a68ad32e78e0050p0eu&R=3NQG0BS7UTIG8&T=C&U=https%3A%2F%2Fwww.amazon.co.uk%2Fcustomerservice%3Fref%3DTE_cs%26ref_%3Dpe_27063361_487055811&H=6GXA6CUCHPDXBS6T2Q2RNAVCCCSA&ref_=pe_27063361_487055811> . \\r\\n\\r\\n\\r\\nWe hope to see you again soon.\\r\\nAmazon.co.uk \\r\\n\\r\\nBuy it again \\t\\r\\n <https://www.amazon.co.uk/gp/r.html?C=2X8R0PK3LTH9J&K=2VP7D0BP8A0BL&M=urn:rtn:msg:202109121417186c0d06d28b354a68ad32e78e0050p0eu&R=1LQBOXJI3VCTL&T=C&U=https%3A%2F%2Fwww.amazon.co.uk%2Fgp%2Fproduct%2FB01A5NNO7W%2Fref%3Dpe_27063361_487055811_pd_te_s_rp_im%3F_encoding%3DUTF8%26pd_rd_i%3DB01A5NNO7W%26pd_rd_r%3DEC0QGMRZEK33Y7SZD6EZ%26pd_rd_w%3D746WQ%26pd_rd_wg%3DKgGmX%26pf_rd_p%3D35d9b767-2041-4211-baa2-9b602a82f05d&H=GYBJPKOH5AFWTVPGBQDDKQHEO9EA&ref_=pe_27063361_487055811_pd_te_s_rp_im> \\t\\r\\nMaybelline Brow Drama Crayon 4 Dark Brown <https://www.amazon.co.uk/gp/r.html?C=2X8R0PK3LTH9J&K=2VP7D0BP8A0BL&M=urn:rtn:msg:202109121417186c0d06d28b354a68ad32e78e0050p0eu&R=30VVVG5KQ2KU3&T=C&U=https%3A%2F%2Fwww.amazon.co.uk%2Fgp%2Fproduct%2FB01A5NNO7W%2Fref%3Dpe_27063361_487055811_pd_te_s_rp_ti%3F_encoding%3DUTF8%26pd_rd_i%3DB01A5NNO7W%26pd_rd_r%3DEC0QGMRZEK33Y7SZD6EZ%26pd_rd_w%3D746WQ%26pd_rd_wg%3DKgGmX%26pf_rd_p%3D35d9b767-2041-4211-baa2-9b602a82f05d&H=LKPT3S7TH7U6PXOMMC1OFNWLQ7CA&ref_=pe_27063361_487055811_pd_te_s_rp_ti>  \\t\\r\\n£2.99 \\t\\r\\n <https://www.amazon.co.uk/gp/r.html?C=2X8R0PK3LTH9J&K=2VP7D0BP8A0BL&M=urn:rtn:msg:202109121417186c0d06d28b354a68ad32e78e0050p0eu&R=3QKL95KAWI8BC&T=C&U=https%3A%2F%2Fwww.amazon.co.uk%2Fgp%2Fproduct%2FB000JEWHWQ%2Fref%3Dpe_27063361_487055811_pd_te_s_rp_im%3F_encoding%3DUTF8%26pd_rd_i%3DB000JEWHWQ%26pd_rd_r%3DEC0QGMRZEK33Y7SZD6EZ%26pd_rd_w%3D746WQ%26pd_rd_wg%3DKgGmX%26pf_rd_p%3D35d9b767-2041-4211-baa2-9b602a82f05d&H=YOBM3VNIAX2JVFD56C2AJTA9UBOA&ref_=pe_27063361_487055811_pd_te_s_rp_im> \\t\\r\\nNina Ricci Nina Eau de Toilette - 50 ml <https://www.amazon.co.uk/gp/r.html?C=2X8R0PK3LTH9J&K=2VP7D0BP8A0BL&M=urn:rtn:msg:202109121417186c0d06d28b354a68ad32e78e0050p0eu&R=20DV2FMTJVFI&T=C&U=https%3A%2F%2Fwww.amazon.co.uk%2Fgp%2Fproduct%2FB000JEWHWQ%2Fref%3Dpe_27063361_487055811_pd_te_s_rp_ti%3F_encoding%3DUTF8%26pd_rd_i%3DB000JEWHWQ%26pd_rd_r%3DEC0QGMRZEK33Y7SZD6EZ%26pd_rd_w%3D746WQ%26pd_rd_wg%3DKgGmX%26pf_rd_p%3D35d9b767-2041-4211-baa2-9b602a82f05d&H=M2MMLHQL3CADLDG9ITFNDYBHQQGA&ref_=pe_27063361_487055811_pd_te_s_rp_ti>  \\t\\r\\n£31.94 \\t\\r\\n <https://www.amazon.co.uk/gp/r.html?C=2X8R0PK3LTH9J&K=2VP7D0BP8A0BL&M=urn:rtn:msg:202109121417186c0d06d28b354a68ad32e78e0050p0eu&R=25OZQ7W62L30Q&T=C&U=https%3A%2F%2Fwww.amazon.co.uk%2Fgp%2Fproduct%2FB006VT8G1O%2Fref%3Dpe_27063361_487055811_pd_te_s_rp_im%3F_encoding%3DUTF8%26pd_rd_i%3DB006VT8G1O%26pd_rd_r%3DEC0QGMRZEK33Y7SZD6EZ%26pd_rd_w%3D746WQ%26pd_rd_wg%3DKgGmX%26pf_rd_p%3D35d9b767-2041-4211-baa2-9b602a82f05d&H=L9XEDXTWAX9IHMTJQOW5B8TDQ2EA&ref_=pe_27063361_487055811_pd_te_s_rp_im> \\t\\r\\nThis Works Deep Sleep Pillow Spray, 75 ml <https://www.amazon.co.uk/gp/r.html?C=2X8R0PK3LTH9J&K=2VP7D0BP8A0BL&M=urn:rtn:msg:202109121417186c0d06d28b354a68ad32e78e0050p0eu&R=1X1FAPH927Y4R&T=C&U=https%3A%2F%2Fwww.amazon.co.uk%2Fgp%2Fproduct%2FB006VT8G1O%2Fref%3Dpe_27063361_487055811_pd_te_s_rp_ti%3F_encoding%3DUTF8%26pd_rd_i%3DB006VT8G1O%26pd_rd_r%3DEC0QGMRZEK33Y7SZD6EZ%26pd_rd_w%3D746WQ%26pd_rd_wg%3DKgGmX%26pf_rd_p%3D35d9b767-2041-4211-baa2-9b602a82f05d&H=4OI7CXAKAQ1CNMAQXCLUXVS3RYMA&ref_=pe_27063361_487055811_pd_te_s_rp_ti>  \\t\\r\\n£16.58 \\t\\r\\n\\r\\nYou can cancel this order within 14 days, beginning from the day you receive the product (subject to certain exceptions <https://www.amazon.co.uk/gp/r.html?C=2X8R0PK3LTH9J&K=2VP7D0BP8A0BL&M=urn:rtn:msg:202109121417186c0d06d28b354a68ad32e78e0050p0eu&R=2KEYNE4T0IUZI&T=C&U=https%3A%2F%2Fwww.amazon.co.uk%2Fgp%2Fhelp%2Fcustomer%2Fdisplay.html%2Fref%3Dpe_27063361_487055811_TE_aes%3Fie%3DUTF8%26nodeId%3D1040616&H=HWNTB8EE8EFMBRZPD7YRIAR4AEIA&ref_=pe_27063361_487055811_TE_aes> ). We will reimburse all payments received from you for the goods purchased and will also reimburse outbound delivery charges (for the least expensive type of delivery offered by us). You will be responsible for the cost of returning the product to us unless we delivered it to you in error, it is faulty, or you purchased shoes, clothing and accessories (check our Returns Policy <https://www.amazon.co.uk/gp/r.html?C=2X8R0PK3LTH9J&K=2VP7D0BP8A0BL&M=urn:rtn:msg:202109121417186c0d06d28b354a68ad32e78e0050p0eu&R=343QI5SGE3HV2&T=C&U=https%3A%2F%2Fwww.amazon.co.uk%2Fgp%2Fhelp%2Fcustomer%2Fdisplay.html%2Fref%3Dpe_27063361_487055811_TE_aes%3Fie%3DUTF8%26nodeId%3D1161002&H=PVHPWXFVIXIHWO0Z46NA0KU0UOKA&ref_=pe_27063361_487055811_TE_aes> ). You may be subject to increased return costs if the product can’t be returned normally by post. \\r\\n\\r\\nYou can request a cancellation by visiting our Returns Support Centre <https://www.amazon.co.uk/gp/f.html?C=2X8R0PK3LTH9J&K=2VP7D0BP8A0BL&M=urn:rtn:msg:202109121417186c0d06d28b354a68ad32e78e0050p0eu&R=3FYXS5KZ3HOH0&T=C&U=https%3A%2F%2Fwww.amazon.co.uk%2Freturns-support%3Fref%3DTE_r%26ref_%3Dpe_27063361_487055811&H=AFZ4FC4MQAG7KEQQYHI9B7NE7MEA&ref_=pe_27063361_487055811> ; by contacting us <https://www.amazon.co.uk/gp/r.html?C=2X8R0PK3LTH9J&K=2VP7D0BP8A0BL&M=urn:rtn:msg:202109121417186c0d06d28b354a68ad32e78e0050p0eu&R=3GSNF4CJUUUVD&T=C&U=https%3A%2F%2Fwww.amazon.co.uk%2Fgp%2Fhelp%2Fcustomer%2Fdisplay.html%2Fref%3Dpe_27063361_487055811_TE_aes%3Fie%3DUTF8%26nodeId%3D502564&H=XTIHAPG8IZ0ATV3K1TFLDRPJXC8A&ref_=pe_27063361_487055811_TE_aes> ; or completing this form <https://www.amazon.co.uk/gp/f.html?C=2X8R0PK3LTH9J&K=2VP7D0BP8A0BL&M=urn:rtn:msg:202109121417186c0d06d28b354a68ad32e78e0050p0eu&R=21S9H5DDVPDAR&T=C&U=https%3A%2F%2Fwww.amazon.co.uk%2Fcancellationform%3Fref_%3Dpe_27063361_487055811&H=EMDLAJXJZMEKHITIAHOPYYPJPPOA&ref_=pe_27063361_487055811>  and sending it by post.\\r\\n\\r\\nPlease also see our Returns Policy <https://www.amazon.co.uk/gp/r.html?C=2X8R0PK3LTH9J&K=2VP7D0BP8A0BL&M=urn:rtn:msg:202109121417186c0d06d28b354a68ad32e78e0050p0eu&R=NZDMI2UPIB4Q&T=C&U=https%3A%2F%2Fwww.amazon.co.uk%2Fgp%2Fhelp%2Fcustomer%2Fdisplay.html%2Fref%3Dpe_27063361_487055811_TE_aes%3Fie%3DUTF8%26nodeId%3D1161002&H=3AU4FSV60BX7AORZWUF0ZBIXAKCA&ref_=pe_27063361_487055811_TE_aes>  to learn more about our 30 day returns guarantee which outlines that you can return items for a full refund of the item price within 30 days.\\r\\n\\r\\nAmazon EU, Société à responsabilité limitée, 38 avenue John F. Kennedy, L-1855 Luxembourg. Share capital: EUR 125.000; Registered in Luxembourg; RCS Luxembourg No: B 101818; Business Licence Number: 134248; Luxembourg VAT Registration Number: LU 20260743.\\r\\n\\r\\nLearn more about your statutory rights here <https://www.amazon.co.uk/gp/r.html?C=2X8R0PK3LTH9J&K=2VP7D0BP8A0BL&M=urn:rtn:msg:202109121417186c0d06d28b354a68ad32e78e0050p0eu&R=ZQ3SJ7MH70D1&T=C&U=https%3A%2F%2Fwww.amazon.co.uk%2Fgp%2Fhelp%2Fcustomer%2Fdisplay.html%2Fref%3Dpe_27063361_487055811_TE_que_ysr%3FnodeId%3D1161020&H=IVBOJUPBLKG3I1LIYPWIGCSQGSEA&ref_=pe_27063361_487055811_TE_que_ysr> .\\r\\n\\r\\nPlease note: This email was sent from a notification-only address that can\\'t accept incoming email. Please do not reply to this message.\\r\\n\\r\\n <https://www.amazon.co.uk/gp/r.html?C=2X8R0PK3LTH9J&K=2VP7D0BP8A0BL&M=urn:rtn:msg:202109121417186c0d06d28b354a68ad32e78e0050p0eu&R=1Z14HPQMRLCX9&T=E&U=https%3A%2F%2Fimages-eu.ssl-images-amazon.com%2Fimages%2FG%2F01%2Fnav%2Ftransp.gif&H=JXDGAL2MV7TATKGYFUO96AMXHXMA&ref_=pe_27063361_487055811_open> '"
      ]
     },
     "execution_count": 97,
     "metadata": {},
     "output_type": "execute_result"
    }
   ],
   "source": [
    "#Executes the email command using any given sentence. YOU MUST USE REAL WORDS\n",
    "sentence = \"return the topic\"\n",
    "clean = []\n",
    "clean = [word for word in sentence.split() if word not in stoplist]\n",
    "print(clean)\n",
    "vec = np.array([])\n",
    "for j in range(0,len(clean)):\n",
    "    word = model[clean[j]]\n",
    "    vec = np.append(vec, word)\n",
    "vec = vec.reshape(j+1,300)\n",
    "for k in range(j,19):\n",
    "    vec = np.append(vec, zero)\n",
    "vec = np.array(vec)\n",
    "vec = vec.reshape(1, 20, 300)\n",
    "\n",
    "ar = np.array(nnmodel.predict(vec))\n",
    "print(ar)\n",
    "classnum =  np.argmax(ar) + 1\n",
    "print(\"Class Number: \" , classnum)\n",
    "\n",
    "emailController = Command()\n",
    "print(\"Email Output: \")\n",
    "emailController.execute(classnum)"
   ]
  },
  {
   "cell_type": "code",
   "execution_count": null,
   "id": "794e8048-3ef3-49d5-97e9-7fdae92580a8",
   "metadata": {},
   "outputs": [],
   "source": []
  },
  {
   "cell_type": "code",
   "execution_count": null,
   "id": "254e8cee-f90d-4521-acae-4ca94db22943",
   "metadata": {},
   "outputs": [],
   "source": []
  }
 ],
 "metadata": {
  "kernelspec": {
   "display_name": "Python 3",
   "language": "python",
   "name": "python3"
  },
  "language_info": {
   "codemirror_mode": {
    "name": "ipython",
    "version": 3
   },
   "file_extension": ".py",
   "mimetype": "text/x-python",
   "name": "python",
   "nbconvert_exporter": "python",
   "pygments_lexer": "ipython3",
   "version": "3.8.8"
  }
 },
 "nbformat": 4,
 "nbformat_minor": 5
}
