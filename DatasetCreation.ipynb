{
 "cells": [
  {
   "cell_type": "code",
   "execution_count": 1,
   "id": "60b82038-3bee-4c9f-93aa-bdd8204def8d",
   "metadata": {},
   "outputs": [
    {
     "name": "stdout",
     "output_type": "stream",
     "text": [
      "Requirement already satisfied: pandas in e:\\miniconda\\lib\\site-packages (2.0.0)\n",
      "Requirement already satisfied: numpy>=1.21.0 in e:\\miniconda\\lib\\site-packages (from pandas) (1.23.5)\n",
      "Requirement already satisfied: pytz>=2020.1 in e:\\miniconda\\lib\\site-packages (from pandas) (2023.3)\n",
      "Requirement already satisfied: tzdata>=2022.1 in e:\\miniconda\\lib\\site-packages (from pandas) (2023.3)\n",
      "Requirement already satisfied: python-dateutil>=2.8.2 in c:\\users\\tayya\\appdata\\roaming\\python\\python310\\site-packages (from pandas) (2.8.2)\n",
      "Requirement already satisfied: six>=1.5 in c:\\users\\tayya\\appdata\\roaming\\python\\python310\\site-packages (from python-dateutil>=2.8.2->pandas) (1.16.0)\n",
      "Requirement already satisfied: numpy in e:\\miniconda\\lib\\site-packages (1.23.5)\n",
      "Requirement already satisfied: gensim in e:\\miniconda\\lib\\site-packages (4.3.1)\n",
      "Requirement already satisfied: numpy>=1.18.5 in e:\\miniconda\\lib\\site-packages (from gensim) (1.23.5)\n",
      "Requirement already satisfied: smart-open>=1.8.1 in e:\\miniconda\\lib\\site-packages (from gensim) (6.3.0)\n",
      "Requirement already satisfied: scipy>=1.7.0 in e:\\miniconda\\lib\\site-packages (from gensim) (1.10.1)\n",
      "Requirement already satisfied: gdown in e:\\miniconda\\lib\\site-packages (4.7.1)\n",
      "Requirement already satisfied: filelock in e:\\miniconda\\lib\\site-packages (from gdown) (3.9.0)\n",
      "Requirement already satisfied: beautifulsoup4 in e:\\miniconda\\lib\\site-packages (from gdown) (4.12.2)\n",
      "Requirement already satisfied: tqdm in e:\\miniconda\\lib\\site-packages (from gdown) (4.64.1)\n",
      "Requirement already satisfied: requests[socks] in e:\\miniconda\\lib\\site-packages (from gdown) (2.28.1)\n",
      "Requirement already satisfied: six in c:\\users\\tayya\\appdata\\roaming\\python\\python310\\site-packages (from gdown) (1.16.0)\n",
      "Requirement already satisfied: soupsieve>1.2 in e:\\miniconda\\lib\\site-packages (from beautifulsoup4->gdown) (2.4.1)\n",
      "Requirement already satisfied: certifi>=2017.4.17 in e:\\miniconda\\lib\\site-packages (from requests[socks]->gdown) (2022.9.24)\n",
      "Requirement already satisfied: charset-normalizer<3,>=2 in e:\\miniconda\\lib\\site-packages (from requests[socks]->gdown) (2.1.1)\n",
      "Requirement already satisfied: urllib3<1.27,>=1.21.1 in e:\\miniconda\\lib\\site-packages (from requests[socks]->gdown) (1.26.13)\n",
      "Requirement already satisfied: idna<4,>=2.5 in e:\\miniconda\\lib\\site-packages (from requests[socks]->gdown) (3.4)\n",
      "Requirement already satisfied: PySocks!=1.5.7,>=1.5.6 in e:\\miniconda\\lib\\site-packages (from requests[socks]->gdown) (1.7.1)\n",
      "Requirement already satisfied: colorama in c:\\users\\tayya\\appdata\\roaming\\python\\python310\\site-packages (from tqdm->gdown) (0.4.6)\n"
     ]
    }
   ],
   "source": [
    "!pip install pandas\n",
    "!pip install numpy\n",
    "!pip install gensim\n",
    "!pip install gdown"
   ]
  },
  {
   "cell_type": "code",
   "execution_count": 1,
   "id": "d927301d-cac8-41ea-9e12-e8e1caa9aafc",
   "metadata": {},
   "outputs": [],
   "source": [
    "#imports\n",
    "import numpy as np\n",
    "import pandas as pd\n",
    "import gdown\n",
    "import gzip\n",
    "import shutil"
   ]
  },
  {
   "cell_type": "code",
   "execution_count": 2,
   "id": "327b0d2d-187d-40d3-b3eb-1d38725eaf64",
   "metadata": {},
   "outputs": [
    {
     "name": "stderr",
     "output_type": "stream",
     "text": [
      "Downloading...\n",
      "From (uriginal): https://drive.google.com/uc?id=0B7XkCwpI5KDYNlNUTTlSS21pQmM\n",
      "From (redirected): https://drive.google.com/uc?id=0B7XkCwpI5KDYNlNUTTlSS21pQmM&confirm=t&uuid=7553074d-827e-46bf-808f-e162ecc8ee16\n",
      "To: D:\\Old Projects\\Synthetic-Dataset-Creation-for-NLP\\GoogleNews-vectors-negative300.bin.gz\n",
      "100%|█████████████████████████████████████████████████████████████████████████████| 1.65G/1.65G [06:12<00:00, 4.42MB/s]\n"
     ]
    }
   ],
   "source": [
    "#Downloads the pretrained word2vec model and extract it, you only need to run this once to obtain the file.\n",
    "url = \"https://drive.google.com/uc?id=0B7XkCwpI5KDYNlNUTTlSS21pQmM\"\n",
    "output = \"GoogleNews-vectors-negative300.bin.gz\"\n",
    "gdown.download(url, output,quiet = False)\n",
    "with gzip.open('GoogleNews-vectors-negative300.bin.gz', 'rb') as f_in:\n",
    "    with open('GoogleNews-vectors-negative300.bin', 'wb') as f_out:\n",
    "        shutil.copyfileobj(f_in, f_out)"
   ]
  },
  {
   "cell_type": "code",
   "execution_count": 3,
   "id": "9c8c54d9-2eb6-4a23-bac3-061560730a46",
   "metadata": {},
   "outputs": [],
   "source": [
    "from gensim.models import Word2Vec\n",
    "from gensim.models import KeyedVectors\n",
    "\n",
    "model = KeyedVectors.load_word2vec_format(\"GoogleNews-vectors-negative300.bin\", binary = True) #Loads in pretrained word2vec model"
   ]
  },
  {
   "cell_type": "code",
   "execution_count": 4,
   "id": "e05e3a01-b372-45cb-aa21-81b128aa66ee",
   "metadata": {
    "tags": []
   },
   "outputs": [],
   "source": [
    "colnames = [\"input\",\"label\"]\n",
    "ds = pd.read_csv('training_data.csv', usecols = colnames)\n",
    "with open(\"stoplist.txt\", \"r\") as F:\n",
    "    stoplist = F.read()\n",
    "    clean = []\n",
    "for i in range(0, len(ds[\"input\"])):\n",
    "    clean.append([word for word in ds[\"input\"][i].split() if word not in stoplist])\n",
    "\n",
    "dataset = []\n",
    "temp = []\n",
    "label = []\n",
    "for i in clean:\n",
    "    for j in i:\n",
    "        for k in range(0,10):\n",
    "            word = model.most_similar(j)[k][0]\n",
    "            temp = i.copy()\n",
    "            temp[i.index(j)] = word\n",
    "            dataset.append(temp)\n",
    "            label.append(ds['label'][clean.index(i)])#Dataset expansion"
   ]
  },
  {
   "cell_type": "code",
   "execution_count": 5,
   "id": "0a9a9f1e-d133-417d-a291-38bed67950c2",
   "metadata": {},
   "outputs": [],
   "source": [
    "sentence = \"\"\n",
    "sentences = []\n",
    "for i in dataset:\n",
    "    for j in i:\n",
    "        if i.index(j) == 0:\n",
    "            sentence = sentence + j\n",
    "        else:\n",
    "            sentence = sentence + \" \" + j\n",
    "    sentences.append(sentence)\n",
    "    sentence = \"\"\n",
    "    \n",
    "df = pd.DataFrame({\n",
    "    'input': sentences,\n",
    "    'label': label\n",
    "})\n",
    "df.to_csv('synthetic_training_data.csv',index = False)#Inserting the expanded dataset."
   ]
  },
  {
   "cell_type": "code",
   "execution_count": null,
   "id": "6ac0ce20-99aa-4381-8032-d070a51da39a",
   "metadata": {},
   "outputs": [],
   "source": []
  },
  {
   "cell_type": "code",
   "execution_count": null,
   "id": "0381f164-3baf-4dd2-8acc-fe909cfae00d",
   "metadata": {},
   "outputs": [],
   "source": []
  }
 ],
 "metadata": {
  "kernelspec": {
   "display_name": "Python 3 (ipykernel)",
   "language": "python",
   "name": "python3"
  },
  "language_info": {
   "codemirror_mode": {
    "name": "ipython",
    "version": 3
   },
   "file_extension": ".py",
   "mimetype": "text/x-python",
   "name": "python",
   "nbconvert_exporter": "python",
   "pygments_lexer": "ipython3",
   "version": "3.9.6"
  }
 },
 "nbformat": 4,
 "nbformat_minor": 5
}
